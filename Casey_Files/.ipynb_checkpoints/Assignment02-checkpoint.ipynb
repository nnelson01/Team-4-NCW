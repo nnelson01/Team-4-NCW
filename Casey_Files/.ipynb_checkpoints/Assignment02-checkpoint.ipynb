{
 "cells": [
  {
   "cell_type": "markdown",
   "metadata": {},
   "source": [
    "## Finance 5350: Computational Financial Modeling\n",
    "### Homework 2: Binary Search & Bond Yields\n",
    "\n",
    "<br>\n",
    "\n",
    "**Due Date:** TBA\n",
    "\n",
    "<br>"
   ]
  },
  {
   "cell_type": "code",
   "execution_count": 1,
   "metadata": {},
   "outputs": [],
   "source": [
    "import numpy as np"
   ]
  },
  {
   "cell_type": "markdown",
   "metadata": {},
   "source": [
    "#### __Problem 1 - The Nuggests Problem__"
   ]
  },
  {
   "cell_type": "markdown",
   "metadata": {},
   "source": [
    "This problem is known as the *chicken nuggets* problem. It goes like this: you walk into Chick Fil-A with an unlimited amount of money (and appetite!). You can purchase nuggets in containers of 6, 9, and 20.\n",
    "\n",
    "Write a program to tell you the ***highest*** number of nuggets that you ***cannot*** purchase! Re-read that just in case it slipped past you the first time. The highest number that you cannot get. For example, you ___can___ get 15 nuggets by purchasing a box of 6 and a box of 9 nuggets. You can get 18 by purchasing 2 boxes of 9 nuggets. But you cannot purchase 17 nuggets with any combination of 6, 9, and 20. ___What is the highest number that you cannot get?!___\n",
    "\n",
    "This simple game will give you experience assembling different bits of `Python` programming to find the solution. It will also employ a very simple numerical method called [__brute-force search__](https://en.wikipedia.org/wiki/Brute-force_search#:~:text=In%20computer%20science%2C%20brute%2Dforce,candidate%20satisfies%20the%20problem's%20statement.). \n",
    "\n",
    "Please write your solution in the code cell below:"
   ]
  },
  {
   "cell_type": "code",
   "execution_count": 3,
   "metadata": {},
   "outputs": [
    {
     "name": "stdout",
     "output_type": "stream",
     "text": [
      "The largest number that you cannot get is: 43\n"
     ]
    }
   ],
   "source": [
    "def is_nugget_number(candidate, sizes) -> bool:\n",
    "    SMALL = sizes['S']\n",
    "    MEDIUM = sizes['M']\n",
    "    LARGE = sizes['L']\n",
    "    for a in range(candidate//SMALL +1):\n",
    "        for b in range(candidate//MEDIUM + 1):\n",
    "            for c in range(candidate//LARGE + 1):\n",
    "                if candidate == a * SMALL + b * MEDIUM + c * LARGE:\n",
    "                    return True\n",
    "    return False\n",
    "\n",
    "\n",
    "def main():\n",
    "    sizes = {'S' : 6, 'M' : 9, 'L' : 20}\n",
    "    count = 0\n",
    "    largest = 0\n",
    "    candidate = sizes['S']\n",
    "    while count < sizes['S']:\n",
    "        if is_nugget_number(candidate, sizes):\n",
    "            count += 1\n",
    "        else:\n",
    "            largest = candidate\n",
    "            count = 0\n",
    "        candidate += 1\n",
    "        \n",
    "    print(\"The largest number that you cannot get is: \" + str(largest))        \n",
    "    \n",
    "if __name__ == \"__main__\":\n",
    "    main()"
   ]
  },
  {
   "cell_type": "markdown",
   "metadata": {},
   "source": [
    "#### __Problem 2 - The Guess My Number Game (Binary Search)__"
   ]
  },
  {
   "cell_type": "markdown",
   "metadata": {},
   "source": [
    "In the book **[Python Programming for the Absolute Beginner, 3rd Edition](http://goo.gl/7PGr9r)** the author teaches `Python` through some simple game programming. One of the first games that he shows how to write is the so-called ***Guess My Number*** game, which is the children's game of guessing some one's secret number (a number between 1 and 100). \n",
    "\n",
    "An implementation of the game in `Python` might look something like this:"
   ]
  },
  {
   "cell_type": "code",
   "execution_count": 4,
   "metadata": {},
   "outputs": [
    {
     "name": "stdout",
     "output_type": "stream",
     "text": [
      "\tWelcome to 'Guess My Number'!\n",
      "\tI'm thinking of a number between 1 and 100.\n",
      "\tTry to guess it in as few attempts as possible.\n",
      "\n",
      "Take a guess: 50\n",
      "Higher...\n",
      "Take a guess: 75\n",
      "Lower ...\n",
      "Take a guess: 60\n",
      "Higher...\n",
      "Take a guess: 65\n",
      "Higher...\n",
      "Take a guess: 69\n",
      "Higher...\n",
      "Take a guess: 7\n",
      "Higher...\n",
      "Take a guess: 70\n",
      "Higher...\n",
      "Take a guess: 72\n",
      "Lower ...\n",
      "Take a guess: 71\n",
      "You guessed it! The number was 71\n",
      "And it only took you 9 tries!\n",
      "\n",
      "\n",
      "\n",
      "Press the enter key to exit.\n"
     ]
    }
   ],
   "source": [
    "import numpy as np\n",
    "\n",
    "def print_header():\n",
    "    print(\"\\tWelcome to 'Guess My Number'!\")\n",
    "    print(\"\\tI'm thinking of a number between 1 and 100.\")\n",
    "    print(\"\\tTry to guess it in as few attempts as possible.\\n\")\n",
    "\n",
    "\n",
    "def print_footer(the_number, tries):\n",
    "    print(\"You guessed it! The number was\", the_number)\n",
    "    print(\"And it only took you\", tries, \"tries!\\n\")\n",
    "    print(\"\\n\\nPress the enter key to exit.\")    \n",
    "    \n",
    "def main():\n",
    "    # print the greeting banner\n",
    "    print_header()\n",
    "    \n",
    "    # set the initial values\n",
    "    the_number = np.random.randint(low=1, high=101, size=1)[0]\n",
    "    guess = int(input(\"Take a guess: \"))\n",
    "    tries = 1\n",
    "    \n",
    "    # the game loop\n",
    "    while guess != the_number:\n",
    "        if guess > the_number:\n",
    "            print(\"Lower ...\")\n",
    "        else:\n",
    "            print(\"Higher...\")\n",
    "            \n",
    "        guess = int(input(\"Take a guess: \"))\n",
    "        tries += 1\n",
    "        \n",
    "    print_footer(the_number, tries)\n",
    "    \n",
    "    \n",
    "if __name__ == \"__main__\":\n",
    "    main()"
   ]
  },
  {
   "cell_type": "markdown",
   "metadata": {},
   "source": [
    "Your task in this problem is to now write a version of the *Guess My Number* game where you and the computer switch roles! That is right: you think of a number and the computer must guess it in as few attempts as possible. You will need to encode your guessing logic to the program solution.\n",
    "\n",
    "This might seem like silly game play, but in order to solve the problem you must use an algorithm called [**binary search**](https://en.wikipedia.org/wiki/Binary_search_algorithm) or the **bisection method** to solve the problem correctly. This is our first attempt at programming a simple algorithm. We will see this algorithm later in the context of the ***Black-Scholes-Merton Option Pricing Model*** to calculate the implied volatility of the model. This is something that options traders do thousands and thousands of times a day!\n",
    "\n",
    "Please use the code cell below to write your solution:"
   ]
  },
  {
   "cell_type": "code",
   "execution_count": 2,
   "metadata": {},
   "outputs": [
    {
     "name": "stdout",
     "output_type": "stream",
     "text": [
      "\tWelcome to 'Guess My Number'!\n",
      "\tYou will need to choose a number between 1 and 100.\n",
      "\tThe computer will try to guess it in as few attempts as possible.\n",
      "\n",
      "Choose your number: 50\n",
      "Computer takes a guess of: 50\n",
      "The computer has found your number. It is 50.\n",
      "It took the computer 1 tries to guess your number.\n"
     ]
    }
   ],
   "source": [
    "def header():\n",
    "    print(\"\\tWelcome to 'Guess My Number'!\")\n",
    "    print(\"\\tYou will need to choose a number between 1 and 100.\")\n",
    "    print(\"\\tThe computer will try to guess it in as few attempts as possible.\\n\")\n",
    "def makeList():\n",
    "    arr = []\n",
    "    for i in range(1,101):\n",
    "        arr.append(i)\n",
    "    return arr\n",
    "def binary_search(arr, low, high, number):\n",
    "    counter = 0\n",
    "    while high >= low:\n",
    "        counter += 1\n",
    "        mid = (low + high)//2\n",
    "        print(\"Computer takes a guess of: \" + str(mid))\n",
    "        if mid == number:\n",
    "            return mid, counter\n",
    "        elif arr[mid] > number:\n",
    "            high = mid - 1\n",
    "        else:\n",
    "            low = mid + 1\n",
    "        \n",
    "def main():\n",
    "    arr = makeList()\n",
    "    low = 0\n",
    "    high = 100\n",
    "    header()\n",
    "    number = int(input(\"Choose your number: \"))\n",
    "    Answer, counter = binary_search(arr, low, high, number)\n",
    "    print(\"The computer has found your number. It is \" + str(Answer) + \".\")\n",
    "    print(\"It took the computer \" + str(counter) + \" tries to guess your number.\")\n",
    "    \n",
    "    \n",
    "if __name__ == \"__main__\":\n",
    "    main()"
   ]
  },
  {
   "cell_type": "markdown",
   "metadata": {},
   "source": [
    "#### __Problem 3 - Bond Prices & Net Present Value__"
   ]
  },
  {
   "cell_type": "markdown",
   "metadata": {},
   "source": [
    "This problem comes from _Chapter 7: Interest Rates and Bond Valuation_ from the textbook _Fundamentals of Corporate Finance 12ed_ by Ross, Westerfield, and Jordan. \n",
    "\n",
    "<br>\n",
    "\n",
    "__The Problem Statement:__\n",
    "\n",
    "<br>\n",
    "\n",
    "A corporate coupon bond has a $10$ percent coupon rate and a $\\$1,000$ face value. Interest is paid semiannually, and the bond has $20$ years to maturity. If investors require a $12$ percent yield, what is the bond's value? What is the effective annual yield on the bond? \n",
    "\n",
    "<br>\n",
    "\n",
    "__The Problem Solution__\n",
    "\n",
    "<br>\n",
    "\n",
    "Because the bond has a $10$ percent coupon rate and investors require a $12$ precent yield, we know that the bond must sell at a discount. Notice that, because the bond pays interest seminannually, the coupons amount to $\\$100/2 = \\$50$ every six months. The required yield is $12\\% / 2 = 6\\%$ every six months. Finally, the bond matures in $20$ years, so there are a total of $40$ six-month periods. \n",
    "\n",
    "The bond's value is thus equal to the present value of $\\$50$ every six months for the next $40$ six-month periods plus the present value of the $\\$1,000$ face value amount: \n",
    "\n",
    "$$\n",
    "\\begin{aligned}\n",
    "\\mbox{Bond value} &= \\$50 \\times [(1 - 1/1.06^{40})/.06)] + 1,000/1.06^{40} \\\\\n",
    "                  &= \\$50 \\times 15.0463 + 1,000/10.2857 \\\\\n",
    "                  &= \\$849.54\n",
    "\\end{aligned}\n",
    "$$\n",
    "\n",
    "<br>\n",
    "\n",
    "Notice that we discounted the $\\$1,000$ back $40$ periods at $6$ percent per period, rather than $20$ years at $12$ percent. The reason is that the effective annual yield on the bond is $1.06^{2} - 1 = .1236$ or $12.36\\%$, not $12$ percent. We thus could have used $12.36$ percent per year for $20$ years when we calculated the present value of the $\\$1,000$ face value amount, and the answer would have been the same. \n",
    "\n",
    "<br>\n",
    "\n",
    "Your assignment for this problem is to write a function in `Python` that solves for the price of a bond. What you are solving for is really just a present value, so you can call it `present_value`. Test it by replicating in code the problem that is solved for you above. \n",
    "\n",
    "<br>"
   ]
  },
  {
   "cell_type": "code",
   "execution_count": 4,
   "metadata": {},
   "outputs": [],
   "source": [
    "def present_value(rate: float, cash_flows: np.ndarray) -> float:\n",
    "    ## TODO: replace the hardcoded value with actual\n",
    "    ##       code to calculate the bond price\n",
    "    price = 0\n",
    "    count = 1\n",
    "    for i in cash_flows:\n",
    "        tempPrice = i/((1+ rate)**count)\n",
    "        count += 1\n",
    "        price += tempPrice\n",
    "    return price"
   ]
  },
  {
   "cell_type": "code",
   "execution_count": 5,
   "metadata": {},
   "outputs": [],
   "source": [
    "## Here is how to set up the bond's cash flows\n",
    "cash_flows = np.empty(40)\n",
    "cash_flows.fill(50.0)\n",
    "cash_flows[-1] += 1000.0"
   ]
  },
  {
   "cell_type": "code",
   "execution_count": 6,
   "metadata": {},
   "outputs": [
    {
     "data": {
      "text/plain": [
       "array([  50.,   50.,   50.,   50.,   50.,   50.,   50.,   50.,   50.,\n",
       "         50.,   50.,   50.,   50.,   50.,   50.,   50.,   50.,   50.,\n",
       "         50.,   50.,   50.,   50.,   50.,   50.,   50.,   50.,   50.,\n",
       "         50.,   50.,   50.,   50.,   50.,   50.,   50.,   50.,   50.,\n",
       "         50.,   50.,   50., 1050.])"
      ]
     },
     "execution_count": 6,
     "metadata": {},
     "output_type": "execute_result"
    }
   ],
   "source": [
    "## Let's check it\n",
    "cash_flows"
   ]
  },
  {
   "cell_type": "code",
   "execution_count": 7,
   "metadata": {},
   "outputs": [
    {
     "name": "stdout",
     "output_type": "stream",
     "text": [
      "The price of the bond is: $849.54\n"
     ]
    }
   ],
   "source": [
    "## Get the bond price and print it with proper formatting\n",
    "rate = 0.06\n",
    "price = present_value(rate, cash_flows)\n",
    "print(f\"The price of the bond is: ${price :,.2f}\")"
   ]
  },
  {
   "cell_type": "markdown",
   "metadata": {},
   "source": [
    "<br>\n",
    "\n",
    "__Note:__ just a brief note about the above formula for the bond price. It is using the present value of annuity formula to calculate the present value of the coupon payments. We could re-write the formula to be more generic as:\n",
    "\n",
    "$$\n",
    "\\begin{aligned}\n",
    "\\mbox{Bond price} &= \\left( \\sum_{t=1}^{M} \\frac{\\mbox{Coupon}_{t}}{(1 + r)^{t}} \\right) + \\frac{\\mbox{Face Value}}{(1 + r)^{M}} \\\\\n",
    "                  &= \\sum_{t=1}^{M} \\frac{CF_{t}}{(1 + r)^{t}}\n",
    "\\end{aligned}\n",
    "$$\n",
    "\n",
    "where $CF_{t}$ is the cash flow of the bond at time $t$. For every period up to the second to last one this is the coupon payment. The final cash flow would be the final coupon payment plus the face value amount of the bond. So for this particular bond above this amounts to the following:\n",
    "\n",
    "$$\n",
    "\\mbox{Bond price} = \\sum_{t=1}^{M} \\frac{CF_{t}}{(1 + r)^{t}} = \\frac{50.0}{(1.06)^{1}} + \\frac{50.0}{(1.06)^{2}} + \\cdots + \\frac{50.0}{(1.06)^{39}} + \\frac{1050.0}{(1.06)^{40}}\n",
    "$$\n",
    "\n",
    "<br>\n",
    "\n",
    "This should help you see why I set up the `cash_flows` ndarray as I did above. \n",
    "\n",
    "<br>"
   ]
  },
  {
   "cell_type": "markdown",
   "metadata": {},
   "source": [
    "#### __Problem 4 - Bond Yields & Binary Search__"
   ]
  },
  {
   "cell_type": "markdown",
   "metadata": {},
   "source": [
    "\\This another problem from _Chapter 7: Interest Rates and Bond Valuation_ from the textbook _Fundamentals of Corporate Finance 12ed_ by Ross, Westerfield, and Jordan. \n",
    "\n",
    "<br>\n",
    "\n",
    "__The Problem Statement:__\n",
    "\n",
    "<br>\n",
    "\n",
    "A corporate coupon bond carries an $8$ percent coupon, paid semiannually. The par value is $\\$1,000$, and the bond matures in six years. If the bond currently sells for $\\$911.37$, what is the yield to maturity? What is the effective annual yield? \n",
    "\n",
    "<br>\n",
    "\n",
    "__The Problem Solution__\n",
    "\n",
    "<br>\n",
    "\n",
    "The present value of the bond's cash flows is its current price, $\\$911.37$. The coupon is $\\$40$ every six months for $12$ periods. The face value is $\\$1,000$. So the bond's yield is the unknown discount rate in the following: \n",
    "\n",
    "$$\n",
    "\\$911.37 = \\$40 \\times \\frac{\\left[1 - \\frac{1}{(1 + r)^{12}}\\right]}{r} + \\frac{1,000}{(1 + r)^{12}}\n",
    "$$\n",
    "\n",
    "<br>\n",
    "\n",
    "The bond sells at a discount. Because the coupon rate is $8$ percent, the yield must be something in excess of that. \n",
    "\n",
    "If we were to solve this by trial and error, we might try $12$ percent (or $6$ percent per six months):\n",
    "\n",
    "$$\n",
    "\\begin{aligned}\n",
    "\\mbox{Bond value} &= \\$40 \\times \\frac{\\left[1 - \\frac{1}{1.06^{12}}\\right]}{.06} + \\frac{1,000}{1.06^{12}} \\\\\n",
    "                  &= \\$832.32\n",
    "\\end{aligned}\n",
    "$$\n",
    "\n",
    "<br>\n",
    "\n",
    "This is less than the actual value, so our discount rate is too high. We now know that the yield is somewhere between $8$ and $12$ percent. With further trial and error (or a little machine assistance), the yield works out to be $10$ percent, or $5$ percent every six months. \n",
    "\n",
    "By convention, the bond's yield to maturity would be quoted as $2 \\times 5\\% = 10\\%$. The effective annual yield is $1.05^{2} - 1 = .1025$ or $10.25\\%$.\n",
    "\n",
    "<br>\n",
    "\n",
    "Your assignment in this problem is to write a function that uses binary search like in the number guessing game together with your `present_value` function from the previous problem to solve for the bond's annual yield to maturity. \n",
    "\n",
    "<br>"
   ]
  },
  {
   "cell_type": "code",
   "execution_count": 2,
   "metadata": {},
   "outputs": [],
   "source": [
    "def present_value(rate: float, cash_flows: np.ndarray) -> float:\n",
    "    price = 0\n",
    "    count = 1\n",
    "    for i in cash_flows:\n",
    "        tempPrice = i/((1+ rate)**count)\n",
    "        count += 1\n",
    "        price += tempPrice\n",
    "    return price, rate\n",
    "  \n",
    "def ytm(pv: float, lower: float, upper: float, cash_flows: np.ndarray) -> float:\n",
    "    ytm = 0\n",
    "    lower = int(lower*100)\n",
    "    upper = int(upper*100)\n",
    "    rates = [i for i in range(lower , upper + 1)]\n",
    "    price = 0\n",
    "    while abs(price-pv) >= .01:\n",
    "        mid = (lower + upper)//2\n",
    "        price, rate = present_value(rates[mid]*.01, cash_flows)\n",
    "        if abs(price-pv) <= .01:\n",
    "            ytm = rate * 2\n",
    "            return ytm\n",
    "        elif price < pv:\n",
    "            upper = mid + 1\n",
    "        else:\n",
    "            lower = mid - 1\n",
    "\n",
    "def ytm2(pv: float, lower: float, upper: float, cash_flows: np.ndarray) -> float:\n",
    "    while True:\n",
    "        mid = (lower + upper)/2\n",
    "        price, rate = present_value(mid, cash_flows)\n",
    "        if abs(price-pv) <= .01:\n",
    "            ytm = rate * 2\n",
    "            return round(ytm, 4)\n",
    "        elif price < pv:\n",
    "            upper = mid\n",
    "        else:\n",
    "            lower = mid\n",
    "            \n",
    "def ytm3(pv: float, lower: float, upper: float, cash_flows: np.ndarray) -> float:\n",
    "    ytm = 0\n",
    "    rates = [(.01 * i) for i in range(1,21)]\n",
    "    for i in rates:\n",
    "        price, rate = present_value(i,cash_flows)\n",
    "        if round(price, 2) == pv:\n",
    "            ytm = i * 2\n",
    "    return ytm"
   ]
  },
  {
   "cell_type": "code",
   "execution_count": 5,
   "metadata": {},
   "outputs": [],
   "source": [
    "## Here is how to set up the bond's cash flows\n",
    "cash_flows2 = np.empty(12)\n",
    "cash_flows2.fill(40.0)\n",
    "cash_flows2[-1] += 1000.0"
   ]
  },
  {
   "cell_type": "code",
   "execution_count": 6,
   "metadata": {},
   "outputs": [
    {
     "name": "stdout",
     "output_type": "stream",
     "text": [
      "The best method here is ytm2. The others are there to show how it progressed\n",
      "The interest rate using binary search with an array is: 0.1\n",
      "The interest rate using binary search w\\o an array is: 0.1\n",
      "The interest rate using linear search is: 0.1\n"
     ]
    }
   ],
   "source": [
    "print(\"The best method here is ytm2. The others are there to show how it progressed\")\n",
    "print(\"The interest rate using binary search with an array is: \" + str(ytm(911.37, 0.01, .2, cash_flows2)))\n",
    "print(\"The interest rate using binary search w\\o an array is: \" + str(ytm2(911.37, 0.01, .2, cash_flows2)))\n",
    "print(\"The interest rate using linear search is: \" + str(ytm3(911.37, 0.01, .2, cash_flows2)))"
   ]
  },
  {
   "cell_type": "markdown",
   "metadata": {},
   "source": [
    "## Additional Problems\n",
    "\n",
    "1. What is the price of a 10-year, zero-coupon bond paying $\\$1,000$ at marturity if the YTM is:\n",
    "    a. 5 percent?\n",
    "    b. 10 percent?\n",
    "    c. 15 percent?\n",
    "    \n",
    "2. Microhard has issued a bond with the following characteristics:\n",
    "    - Par: $\\$1,000$\n",
    "    - Time to maturity: 25 years\n",
    "    - Coupon rate: 7 percent\n",
    "    - Semiannual payments\n",
    "    \n",
    "   Calculate the price of this bond if the YTM is:\n",
    "   a. 7 percent\n",
    "   b. 9 percent\n",
    "   c. 5 percent\n",
    "   \n",
    "3. Watters Umbrella Corp. issued 12-year bonds 2 years ago at a coupon rate of 7.8 percent. The bonds make semiannual payments. If these bonds currently sell for 105 percent of par value, what is the YTM?\n",
    "\n",
    "4. Hacker Software has 7.4 percent coupon bonds on the market with 9 years to maturity. The bonds make semiannual payments and currently sell for 96 percent of par. What is the YTM?\n",
    "\n",
    "5. Pembroke Co. wants to issue new 20-year bonds for some much needed expansion projects. The company currently has 10 percent coupon bonds on the market that sell for $\\$1,063$, make semiannual payments, and mature in 20 year. What coupon rate should the company set on its new bonds if it wants them to sell at par?\n",
    "\n",
    "6. Please write 2 additional bond pricing homework problems that are plausible and solve them them with your code. \n",
    "\n",
    "7. Please write 2 additional bond yield-to-maturity homework problems at are plausible and solve them with your code. Please compare with `numpy_financial`'s `irr` method."
   ]
  },
  {
   "cell_type": "code",
   "execution_count": 3,
   "metadata": {},
   "outputs": [
    {
     "name": "stdout",
     "output_type": "stream",
     "text": [
      "The PV when the YTM is 5.0% is $376.89.\n",
      "The PV when the YTM is 10.0% is $148.64.\n",
      "The PV when the YTM is 15.0% is $61.1.\n"
     ]
    }
   ],
   "source": [
    "# Problem 1\n",
    "def bond_factory(face: float, coupon: float, frequency: int, maturity: int) -> np.ndarray:\n",
    "    pmt = (coupon  * face) / frequency\n",
    "    bond = np.full(maturity * frequency, pmt)\n",
    "    bond[-1] += face\n",
    "    return bond\n",
    "bond = bond_factory(1000,0,2,10)\n",
    "rate = [.05,.1,.15]\n",
    "for i in rate:\n",
    "    PV, rate = present_value(i, bond)\n",
    "    print(\"The PV when the YTM is \" + str(i*100) + \"% is $\" + str(round(PV,2)) + \".\")"
   ]
  },
  {
   "cell_type": "code",
   "execution_count": 50,
   "metadata": {},
   "outputs": [
    {
     "name": "stdout",
     "output_type": "stream",
     "text": [
      "The price when the YTM is 7.0% is $516.97.\n",
      "The price when the YTM is 9.0% is $397.11.\n",
      "The price when the YTM is 5.0% is $726.16.\n"
     ]
    }
   ],
   "source": [
    "# Problem 2\n",
    "bond = bond_factory(1000,.07,2,25)\n",
    "rate = [.07,.09,.05]\n",
    "for i in rate:\n",
    "    PV, rate = present_value(i, bond)\n",
    "    print(\"The price when the YTM is \" + str(round(i*100, 2)) + \"% is $\" + str(round(PV,2)) + \".\")"
   ]
  },
  {
   "cell_type": "code",
   "execution_count": 53,
   "metadata": {},
   "outputs": [
    {
     "name": "stdout",
     "output_type": "stream",
     "text": [
      "The Yield to Maturity is: 7.0%.\n"
     ]
    }
   ],
   "source": [
    "# Problem 3\n",
    "bond = bond_factory(1000,.078,2,10)\n",
    "ytm = ytm2(1050,.01,.2, bond)\n",
    "print(\"The Yield to Maturity is: \" + str(round(ytm*100, 2)) + \"%.\")"
   ]
  },
  {
   "cell_type": "code",
   "execution_count": 54,
   "metadata": {},
   "outputs": [
    {
     "name": "stdout",
     "output_type": "stream",
     "text": [
      "The Yield to Maturity is: 8.0%.\n"
     ]
    }
   ],
   "source": [
    "# Problem 4\n",
    "bond = bond_factory(1000,.074,2,9)\n",
    "ytm = ytm2(960,.01,.2, bond)\n",
    "print(\"The Yield to Maturity is: \" + str(round(ytm*100, 2)) + \"%.\")"
   ]
  },
  {
   "cell_type": "code",
   "execution_count": 6,
   "metadata": {},
   "outputs": [
    {
     "name": "stdout",
     "output_type": "stream",
     "text": [
      "The coupon rate is: 9.3%.\n"
     ]
    }
   ],
   "source": [
    "# Problem 5\n",
    "bond = bond_factory(1000,.1,2,20)\n",
    "ytm = ytm2(1063,.01,.2, bond)\n",
    "print(\"The coupon rate is: \" + str(round(ytm*100, 2)) + \"%.\")\n"
   ]
  },
  {
   "cell_type": "code",
   "execution_count": 80,
   "metadata": {},
   "outputs": [
    {
     "name": "stdout",
     "output_type": "stream",
     "text": [
      "The price is $452.29.\n",
      "The price is $875.8.\n"
     ]
    }
   ],
   "source": [
    "# Problem 6\n",
    "'''\n",
    "Livitup Corp has issued the following bond:\n",
    "    Time remaining: 10 Years\n",
    "    Coupon Rate: 6 Percent\n",
    "    Semiannual payments\n",
    "    YTM: .09\n",
    "'''\n",
    "bond = bond_factory(1000,.06,2,10)\n",
    "PV, rate = present_value(.09, bond)\n",
    "print(\"The price is $\" + str(round(PV,2)) + \".\")\n",
    "\n",
    "'''\n",
    "Getting Close Corp has issued the following bond:\n",
    "    Time remaining: 8 Years\n",
    "    Coupon Rate: 4 Percent\n",
    "    Annual payments\n",
    "    YTM: .06\n",
    "'''\n",
    "bond = bond_factory(1000,.04,1,8)\n",
    "PV, rate = present_value(.06, bond)\n",
    "print(\"The price is $\" + str(round(PV,2)) + \".\")"
   ]
  },
  {
   "cell_type": "code",
   "execution_count": 5,
   "metadata": {},
   "outputs": [
    {
     "name": "stdout",
     "output_type": "stream",
     "text": [
      "The Yield to Maturity is: 4.88%.\n",
      "The Yield to Maturity is: 8.05%.\n"
     ]
    }
   ],
   "source": [
    "# Problem 7\n",
    "'''\n",
    "Futurisitc Corp. issued 10 year bonds at a coupon rate of 5.5%. The bonds make semiannual payments.\n",
    "If the current price of the bond is $1048.65, what is the YTM?\n",
    "'''\n",
    "bond = bond_factory(1000,.055,2,10)\n",
    "ytm = ytm2(1048.65,.01,.2, bond)\n",
    "print(\"The Yield to Maturity is: \" + str(round(ytm*100, 2)) + \"%.\")\n",
    "\n",
    "'''\n",
    "Ending Corp. issued 7.2 percent coupon bonds with 6 years to maturity. The bond makes semiannual payments.\n",
    "If the bonds currently sell for 96, what is the YTM?\n",
    "'''\n",
    "bond = bond_factory(1000,.072,2,6)\n",
    "ytm = ytm2(960,.01,.2, bond)\n",
    "print(\"The Yield to Maturity is: \" + str(round(ytm*100, 2)) + \"%.\")"
   ]
  }
 ],
 "metadata": {
  "kernelspec": {
   "display_name": "Python 3",
   "language": "python",
   "name": "python3"
  },
  "language_info": {
   "codemirror_mode": {
    "name": "ipython",
    "version": 3
   },
   "file_extension": ".py",
   "mimetype": "text/x-python",
   "name": "python",
   "nbconvert_exporter": "python",
   "pygments_lexer": "ipython3",
   "version": "3.7.4"
  }
 },
 "nbformat": 4,
 "nbformat_minor": 4
}
