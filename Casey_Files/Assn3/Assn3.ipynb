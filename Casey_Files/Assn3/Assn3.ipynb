{
 "cells": [
  {
   "cell_type": "code",
   "execution_count": null,
   "metadata": {},
   "outputs": [],
   "source": [
    "Assignment 3"
   ]
  },
  {
   "cell_type": "code",
   "execution_count": 3,
   "metadata": {},
   "outputs": [],
   "source": [
    "import numpy as np\n",
    "S = 100\n",
    "K = 105\n",
    "r= .08\n",
    "T = .5\n",
    "u = 1.3\n",
    "d = .8\n",
    "n = 1\n",
    "h = T/n"
   ]
  },
  {
   "cell_type": "code",
   "execution_count": 28,
   "metadata": {},
   "outputs": [
    {
     "name": "stdout",
     "output_type": "stream",
     "text": [
      "Call: The premium is $11.57, D is 0.5 and B is -38.43\n",
      "Put: The premium is $12.45, D is -0.5 and B is 62.45\n"
     ]
    }
   ],
   "source": [
    "# Problem 10.1\n",
    "\n",
    "def call_payoff(spot,strike):\n",
    "    return np.maximum(spot-strike, 0.0)\n",
    "Cu = call_payoff(u*S,K)\n",
    "Cd = call_payoff(d*S,K)\n",
    "D = (Cu-Cd)/ (u*S - d*S)\n",
    "B = np.exp(-r * h) * ((u*Cd - d*Cu)/(u-d))\n",
    "P = round(D * S + B, 2)\n",
    "print(\"Call: The premium is $\" + str(P) + \", D is \" + str(D) + \" and B is \" + str(round(B,2)))\n",
    "\n",
    "def put_payoff(spot,strike):\n",
    "    return np.maximum(strike-spot, 0)\n",
    "Pu = put_payoff(u*S,K)\n",
    "Pd = put_payoff(d*S,K)\n",
    "D = (Pu-Pd)/ (u*S - d*S)\n",
    "B = np.exp(-r * h) * ((u*Pd - d*Pu)/ (u-d))\n",
    "P = round(D * S + B, 2)\n",
    "print(\"Put: The premium is $\" + str(P) + \", D is \" + str(D) + \" and B is \" + str(round(B,2)))"
   ]
  },
  {
   "cell_type": "code",
   "execution_count": 31,
   "metadata": {},
   "outputs": [
    {
     "name": "stdout",
     "output_type": "stream",
     "text": [
      "Call: The price is $16.196\n"
     ]
    }
   ],
   "source": [
    "# Problem 10.2\n",
    "K = 95\n",
    "Cu = call_payoff(u*S,K)\n",
    "Cd = call_payoff(d*S,K)\n",
    "D = (Cu-Cd)/ (u*S - d*S)\n",
    "B = np.exp(-r * h) * ((u*Cd - d*Cu)/(u-d))\n",
    "P = round(D * S + B, 3)\n",
    "print(\"Call: The price is $\" + str(P))"
   ]
  },
  {
   "cell_type": "code",
   "execution_count": 34,
   "metadata": {},
   "outputs": [
    {
     "name": "stdout",
     "output_type": "stream",
     "text": [
      "Put: The price is $7.471\n"
     ]
    }
   ],
   "source": [
    "# Problem 10.3\n",
    "Pu = put_payoff(u*S,K)\n",
    "Pd = put_payoff(d*S,K)\n",
    "D = (Pu-Pd)/ (u*S - d*S)\n",
    "B = np.exp(-r * h) * ((u*Pd - d*Pu)/ (u-d))\n",
    "P = round(D * S + B, 3)\n",
    "print(\"Put: The price is $\" + str(P))"
   ]
  }
 ],
 "metadata": {
  "kernelspec": {
   "display_name": "Python 3",
   "language": "python",
   "name": "python3"
  },
  "language_info": {
   "codemirror_mode": {
    "name": "ipython",
    "version": 3
   },
   "file_extension": ".py",
   "mimetype": "text/x-python",
   "name": "python",
   "nbconvert_exporter": "python",
   "pygments_lexer": "ipython3",
   "version": "3.7.4"
  }
 },
 "nbformat": 4,
 "nbformat_minor": 2
}
