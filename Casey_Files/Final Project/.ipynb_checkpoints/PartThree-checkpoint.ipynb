{
 "cells": [
  {
   "cell_type": "code",
   "execution_count": 1,
   "metadata": {},
   "outputs": [],
   "source": [
    "import numpy as np\n",
    "import options as opt\n",
    "import matplotlib.pyplot as plt"
   ]
  },
  {
   "cell_type": "code",
   "execution_count": 2,
   "metadata": {},
   "outputs": [],
   "source": [
    "# Problem 2 setup\n",
    "spot = 100\n",
    "expiry = 1\n",
    "rate = .08\n",
    "div = .05\n",
    "vol = .3\n",
    "num = 252"
   ]
  },
  {
   "cell_type": "code",
   "execution_count": 3,
   "metadata": {},
   "outputs": [
    {
     "data": {
      "text/plain": [
       "Text(0.5, 0, 'Number of Days')"
      ]
     },
     "execution_count": 3,
     "metadata": {},
     "output_type": "execute_result"
    },
    {
     "data": {
      "image/png": "[encoded data removed]",
      "text/plain": [
       "<Figure size 432x288 with 1 Axes>"
      ]
     },
     "metadata": {
      "needs_background": "light"
     },
     "output_type": "display_data"
    }
   ],
   "source": [
    "# Problem 2 - Creating Path\n",
    "def binompath():\n",
    "    bipath = opt.binomial_path(spot, expiry, rate, div, vol, num)\n",
    "    bipathprice = bipath[-1]\n",
    "    return bipath, bipathprice\n",
    "\n",
    "bipath, bipathprice = binompath()\n",
    "plt.plot(bipath)\n",
    "plt.ylabel(\"Price\")\n",
    "plt.xlabel(\"Number of Days\")\n"
   ]
  },
  {
   "cell_type": "code",
   "execution_count": 4,
   "metadata": {},
   "outputs": [],
   "source": [
    "# Extra Credit\n",
    "# Simulation\n",
    "# Defining variables\n",
    "spot = 41\n",
    "strike = 40\n",
    "expiry = 1\n",
    "vol = .3\n",
    "rate = .08\n",
    "div = 0\n",
    "nper = 200\n",
    "num = 200\n",
    "def simulate():\n",
    "# Finding M different spot prices\n",
    "    stockprices = []\n",
    "    for i in range(M):\n",
    "        bipath, spot = binompath()\n",
    "        stockprices.append(spot)\n",
    "# Finding M different Call/Put payoffs\n",
    "    cpo = []\n",
    "    ppo = []\n",
    "    for i in stockprices:\n",
    "        spot = i\n",
    "        cpo.append(opt.call_payoff(spot,strike))\n",
    "        ppo.append(opt.put_payoff(spot,strike))\n",
    "# Finding average payoffs\n",
    "    acp = np.mean(cpo)\n",
    "    app = np.mean(ppo)\n",
    "# Finding standard error\n",
    "    cse = np.std(cpo)/np.sqrt(M)\n",
    "    pse = np.std(ppo)/np.sqrt(M)\n",
    "# Discounting\n",
    "    disc = np.exp(-rate * expiry)\n",
    "# Answer \n",
    "    finalcall = round(disc * acp, 2)\n",
    "    finalcse = round(cse, 4)\n",
    "    finalput = round(disc * app, 2)\n",
    "    finalpse = round(pse, 4)\n",
    "    return finalcall, finalcse, finalput, finalpse"
   ]
  },
  {
   "cell_type": "code",
   "execution_count": 5,
   "metadata": {},
   "outputs": [
    {
     "name": "stdout",
     "output_type": "stream",
     "text": [
      "The price of a European call option for 200 periods is: $6.97\n",
      "The price of a European put option for 200 periods is: $2.89\n"
     ]
    }
   ],
   "source": [
    "# Pricing European Call and Put\n",
    "call_prc = opt.european_binomial_pricer(spot, strike, expiry, rate, div, vol, nper, opt.call_payoff)\n",
    "print(\"The price of a European call option for 200 periods is: $\" + str(call_prc))\n",
    "put_prc = opt.european_binomial_pricer(spot, strike, expiry, rate, div, vol, nper, opt.put_payoff)\n",
    "print(\"The price of a European put option for 200 periods is: $\" + str(put_prc))"
   ]
  },
  {
   "cell_type": "code",
   "execution_count": 6,
   "metadata": {},
   "outputs": [
    {
     "name": "stdout",
     "output_type": "stream",
     "text": [
      "The price of a European call option using Black-Scholes is: $6.96\n",
      "The price of a European put option using Black-Scholes is: $2.89\n",
      "\n"
     ]
    }
   ],
   "source": [
    "# Pricing Black Scholes\n",
    "bs_call_prc = round(opt.black_scholes_call(spot, strike, expiry, rate, div, vol),2)\n",
    "print(\"The price of a European call option using Black-Scholes is: $\" + str(bs_call_prc))\n",
    "bs_put_prc = round(opt.black_scholes_put(spot, strike, expiry, rate, div, vol),2)\n",
    "print(\"The price of a European put option using Black-Scholes is: $\" + str(bs_put_prc) + \"\\n\")"
   ]
  },
  {
   "cell_type": "code",
   "execution_count": 7,
   "metadata": {},
   "outputs": [
    {
     "name": "stdout",
     "output_type": "stream",
     "text": [
      "The price of a European call option using Monte Carlo with 10000 simulations is: $9.84\n",
      "The standard error is:0.1265\n",
      "The price of a European put option using Monte Carlo with 10000 simulations is: $1.85\n",
      "The standard error is:0.0402\n",
      "\n",
      "The price of a European call option using Monte Carlo with 25000 simulations is: $9.71\n",
      "The standard error is:0.079\n",
      "The price of a European put option using Monte Carlo with 25000 simulations is: $1.89\n",
      "The standard error is:0.0257\n",
      "\n",
      "The price of a European call option using Monte Carlo with 50000 simulations is: $9.74\n",
      "The standard error is:0.0569\n",
      "The price of a European put option using Monte Carlo with 50000 simulations is: $1.91\n",
      "The standard error is:0.0182\n",
      "\n",
      "The price of a European call option using Monte Carlo with 75000 simulations is: $9.75\n",
      "The standard error is:0.0462\n",
      "The price of a European put option using Monte Carlo with 75000 simulations is: $1.88\n",
      "The standard error is:0.0148\n",
      "\n",
      "The price of a European call option using Monte Carlo with 100000 simulations is: $9.79\n",
      "The standard error is:0.0401\n",
      "The price of a European put option using Monte Carlo with 100000 simulations is: $1.88\n",
      "The standard error is:0.0128\n"
     ]
    }
   ],
   "source": [
    "# Monte Carlo with 10,000 simulations\n",
    "M = 10000\n",
    "finalcall, finalcse, finalput, finalpse = simulate()\n",
    "print(\"The price of a European call option using Monte Carlo with \" + str(M) + \" simulations is: $\" + str(finalcall))\n",
    "print(\"The standard error is:\" + str(finalcse))\n",
    "print(\"The price of a European put option using Monte Carlo with \" + str(M) + \" simulations is: $\" + str(finalput))\n",
    "print(\"The standard error is:\" + str(finalpse) + \"\\n\")\n",
    "\n",
    "# Monte Carlo with 25,000 simulations\n",
    "M = 25000\n",
    "finalcall, finalcse, finalput, finalpse = simulate()\n",
    "print(\"The price of a European call option using Monte Carlo with \" + str(M) + \" simulations is: $\" + str(finalcall))\n",
    "print(\"The standard error is:\" + str(finalcse))\n",
    "print(\"The price of a European put option using Monte Carlo with \" + str(M) + \" simulations is: $\" + str(finalput))\n",
    "print(\"The standard error is:\" + str(finalpse) + \"\\n\")\n",
    "\n",
    "# Monte Carlo with 50,000 simulations\n",
    "M = 50000\n",
    "finalcall, finalcse, finalput, finalpse = simulate()\n",
    "print(\"The price of a European call option using Monte Carlo with \" + str(M) + \" simulations is: $\" + str(finalcall))\n",
    "print(\"The standard error is:\" + str(finalcse))\n",
    "print(\"The price of a European put option using Monte Carlo with \" + str(M) + \" simulations is: $\" + str(finalput))\n",
    "print(\"The standard error is:\" + str(finalpse) + \"\\n\")\n",
    "\n",
    "# Monte Carlo with 75,000 simulations\n",
    "M = 75000\n",
    "finalcall, finalcse, finalput, finalpse = simulate()\n",
    "print(\"The price of a European call option using Monte Carlo with \" + str(M) + \" simulations is: $\" + str(finalcall))\n",
    "print(\"The standard error is:\" + str(finalcse))\n",
    "print(\"The price of a European put option using Monte Carlo with \" + str(M) + \" simulations is: $\" + str(finalput))\n",
    "print(\"The standard error is:\" + str(finalpse) + \"\\n\")\n",
    "\n",
    "# Monte Carlo with 100,000 simulations\n",
    "M = 100000\n",
    "finalcall, finalcse, finalput, finalpse = simulate()\n",
    "print(\"The price of a European call option using Monte Carlo with \" + str(M) + \" simulations is: $\" + str(finalcall))\n",
    "print(\"The standard error is:\" + str(finalcse))\n",
    "print(\"The price of a European put option using Monte Carlo with \" + str(M) + \" simulations is: $\" + str(finalput))\n",
    "print(\"The standard error is:\" + str(finalpse))"
   ]
  }
 ],
 "metadata": {
  "kernelspec": {
   "display_name": "Python 3",
   "language": "python",
   "name": "python3"
  },
  "language_info": {
   "codemirror_mode": {
    "name": "ipython",
    "version": 3
   },
   "file_extension": ".py",
   "mimetype": "text/x-python",
   "name": "python",
   "nbconvert_exporter": "python",
   "pygments_lexer": "ipython3",
   "version": "3.7.4"
  }
 },
 "nbformat": 4,
 "nbformat_minor": 2
}
