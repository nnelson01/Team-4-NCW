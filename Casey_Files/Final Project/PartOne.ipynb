{
 "cells": [
  {
   "cell_type": "code",
   "execution_count": 9,
   "metadata": {},
   "outputs": [],
   "source": [
    "import options as opt\n",
    "import numpy as np"
   ]
  },
  {
   "cell_type": "code",
   "execution_count": 10,
   "metadata": {},
   "outputs": [],
   "source": [
    "# Question 1\n",
    "spot = 100\n",
    "strike = 105\n",
    "rate = .08\n",
    "expiry = 1\n",
    "div = 0\n",
    "vol = .2\n",
    "nper = 1"
   ]
  },
  {
   "cell_type": "code",
   "execution_count": 12,
   "metadata": {},
   "outputs": [
    {
     "name": "stdout",
     "output_type": "stream",
     "text": [
      "The price of a European call option for 1 period is: $11.35\n",
      "The price of a European put option for 1 period is: $8.28\n",
      "This matches what I did by hand in Excel.\n"
     ]
    }
   ],
   "source": [
    "# Question 1b\n",
    "call_prc = opt.european_binomial_pricer(spot, strike, expiry, rate, div, vol, nper, opt.call_payoff)\n",
    "print(\"The price of a European call option for 1 period is: $\" + str(call_prc))\n",
    "put_prc = opt.european_binomial_pricer(spot, strike, expiry, rate, div, vol, nper, opt.put_payoff)\n",
    "print(\"The price of a European put option for 1 period is: $\" + str(put_prc))\n",
    "print(\"This matches what I did by hand in Excel.\")"
   ]
  },
  {
   "cell_type": "code",
   "execution_count": 13,
   "metadata": {},
   "outputs": [
    {
     "name": "stdout",
     "output_type": "stream",
     "text": [
      "The price of a European call option for 3 periods is: $10.04\n",
      "The price of a European put option for 3 periods is: $6.97\n",
      "This matches what I did by hand in Excel.\n"
     ]
    }
   ],
   "source": [
    "# Question 1c\n",
    "nper = 3\n",
    "call_prc = opt.european_binomial_pricer(spot, strike, expiry, rate, div, vol, nper, opt.call_payoff)\n",
    "print(\"The price of a European call option for 3 periods is: $\" + str(call_prc))\n",
    "put_prc = opt.european_binomial_pricer(spot, strike, expiry, rate, div, vol, nper, opt.put_payoff)\n",
    "print(\"The price of a European put option for 3 periods is: $\" + str(put_prc))\n",
    "print(\"This matches what I did by hand in Excel.\")"
   ]
  },
  {
   "cell_type": "code",
   "execution_count": 14,
   "metadata": {},
   "outputs": [
    {
     "name": "stdout",
     "output_type": "stream",
     "text": [
      "The price of a European call option for 200 periods is: $9.47\n",
      "The price of a European put option for 200 periods is: $6.4\n"
     ]
    }
   ],
   "source": [
    "# Question 1d\n",
    "nper = 200\n",
    "call_prc = opt.european_binomial_pricer(spot, strike, expiry, rate, div, vol, nper, opt.call_payoff)\n",
    "print(\"The price of a European call option for 200 periods is: $\" + str(call_prc))\n",
    "put_prc = opt.european_binomial_pricer(spot, strike, expiry, rate, div, vol, nper, opt.put_payoff)\n",
    "print(\"The price of a European put option for 200 periods is: $\" + str(put_prc))"
   ]
  },
  {
   "cell_type": "code",
   "execution_count": 15,
   "metadata": {},
   "outputs": [],
   "source": [
    "# Question 2\n",
    "spot = 100\n",
    "strike = 105\n",
    "rate = .08\n",
    "expiry = 1\n",
    "div = 0\n",
    "vol = .2"
   ]
  },
  {
   "cell_type": "code",
   "execution_count": 16,
   "metadata": {},
   "outputs": [
    {
     "name": "stdout",
     "output_type": "stream",
     "text": [
      "The price of a European call option using Black-Scholes is: $9.47\n",
      "The price of a European put option using Black-Scholes is: $6.4\n",
      "\n"
     ]
    }
   ],
   "source": [
    "# Question 2a\n",
    "bs_call_prc = round(opt.black_scholes_call(spot, strike, expiry, rate, div, vol),2)\n",
    "print(\"The price of a European call option using Black-Scholes is: $\" + str(bs_call_prc))\n",
    "bs_put_prc = round(opt.black_scholes_put(spot, strike, expiry, rate, div, vol),2)\n",
    "print(\"The price of a European put option using Black-Scholes is: $\" + str(bs_put_prc) + \"\\n\")"
   ]
  },
  {
   "cell_type": "code",
   "execution_count": 17,
   "metadata": {},
   "outputs": [
    {
     "name": "stdout",
     "output_type": "stream",
     "text": [
      "The table and explanation are in Excel.\n"
     ]
    }
   ],
   "source": [
    "# Question 2b\n",
    "nper = np.arange(20,220,20)\n",
    "price_array_call = []\n",
    "price_array_put = []\n",
    "for i in nper:\n",
    "    nper = i\n",
    "    call_prc = opt.european_binomial_pricer(spot, strike, expiry, rate, div, vol, nper, opt.call_payoff)\n",
    "    put_prc = opt.european_binomial_pricer(spot, strike, expiry, rate, div, vol, nper, opt.put_payoff)\n",
    "    price_array_call.append(call_prc)\n",
    "    price_array_put.append(put_prc)\n",
    "print(\"The table and explanation are in Excel.\")"
   ]
  }
 ],
 "metadata": {
  "kernelspec": {
   "display_name": "Python 3",
   "language": "python",
   "name": "python3"
  },
  "language_info": {
   "codemirror_mode": {
    "name": "ipython",
    "version": 3
   },
   "file_extension": ".py",
   "mimetype": "text/x-python",
   "name": "python",
   "nbconvert_exporter": "python",
   "pygments_lexer": "ipython3",
   "version": "3.8.3"
  }
 },
 "nbformat": 4,
 "nbformat_minor": 4
}
