{
 "cells": [
  {
   "cell_type": "code",
   "execution_count": 16,
   "metadata": {},
   "outputs": [],
   "source": [
    "import options as opt\n",
    "import numpy as np"
   ]
  },
  {
   "cell_type": "code",
   "execution_count": 17,
   "metadata": {},
   "outputs": [],
   "source": [
    "# Problem 2\n",
    "spot = 100\n",
    "strike = 95\n",
    "rate = .08\n",
    "div = 0\n",
    "vol = .3\n",
    "expiry = 1\n",
    "nper = 3"
   ]
  },
  {
   "cell_type": "code",
   "execution_count": 18,
   "metadata": {},
   "outputs": [
    {
     "name": "stdout",
     "output_type": "stream",
     "text": [
      "The price of an American call option for 3 periods is: $18.28\n",
      "The price of a European call option for 3 periods is: $18.28\n",
      "Since there is no dividend, there will be no early exercise on an American call option.\n",
      "It is the same as the European model.\n",
      "This matches what I did by hand in Excel.\n"
     ]
    }
   ],
   "source": [
    "# Problem 2a\n",
    "call_prc_am = round(opt.american_binomial_pricer(spot, strike, expiry, rate, div, vol, nper, opt.call_payoff),2)\n",
    "call_prc_eu = opt.european_binomial_pricer(spot, strike, expiry, rate, div, vol, nper, opt.call_payoff)\n",
    "print(\"The price of an American call option for 3 periods is: $\" + str(call_prc_am))\n",
    "print(\"The price of a European call option for 3 periods is: $\" + str(call_prc_eu))\n",
    "print(\"Since there is no dividend, there will be no early exercise on an American call option.\")\n",
    "print(\"It is the same as the European model.\")\n",
    "print(\"This matches what I did by hand in Excel.\")\n"
   ]
  },
  {
   "cell_type": "code",
   "execution_count": 20,
   "metadata": {},
   "outputs": [
    {
     "name": "stdout",
     "output_type": "stream",
     "text": [
      "The price of a European put option for 3 periods is: $5.98\n",
      "Proof of put-call parity: The option price is $18.28\n"
     ]
    }
   ],
   "source": [
    "# Problem 2b\n",
    "put_prc_eu = opt.european_binomial_pricer(spot, strike, expiry, rate, div, vol, nper, opt.put_payoff)\n",
    "print(\"The price of a European put option for 3 periods is: $\" + str(put_prc_eu))\n",
    "pcparity = round(put_prc_eu + spot - strike*np.exp(-rate),2)\n",
    "print(\"Proof of put-call parity: The option price is $\" + str(pcparity))\n",
    "\n"
   ]
  },
  {
   "cell_type": "code",
   "execution_count": 5,
   "metadata": {},
   "outputs": [
    {
     "name": "stdout",
     "output_type": "stream",
     "text": [
      "The price of an American put option for 3 periods is: $6.68\n",
      "\n"
     ]
    }
   ],
   "source": [
    "# Problem 2c\n",
    "put_prc_am = round(opt.american_binomial_pricer(spot, strike, expiry, rate, div, vol, nper, opt.put_payoff),2)\n",
    "print(\"The price of an American put option for 3 periods is: $\" + str(put_prc_am) + \"\\n\")"
   ]
  },
  {
   "cell_type": "code",
   "execution_count": 21,
   "metadata": {},
   "outputs": [
    {
     "name": "stdout",
     "output_type": "stream",
     "text": [
      "The price of an American call option for 200 periods is: $18.38\n",
      "The price of a European call option for 200 periods is: $18.38\n",
      "\n",
      "The price of an American put option for 200 periods is: $6.68\n",
      "The price of a European put option for 200 periods is: $6.08\n",
      "\n",
      "Proof of put-call parity: The option price is 18.38\n",
      "Again, for the American call option without a dividend, it will never be exercised early.\n",
      "This can be seen by the fact that the price of both the American and European options are the same.\n"
     ]
    }
   ],
   "source": [
    "# Problem 2d\n",
    "nper = 200\n",
    "# Call comparison\n",
    "call_prc_am = round(opt.american_binomial_pricer(spot, strike, expiry, rate, div, vol, nper, opt.call_payoff),2)\n",
    "call_prc_eu = opt.european_binomial_pricer(spot, strike, expiry, rate, div, vol, nper, opt.call_payoff)\n",
    "print(\"The price of an American call option for 200 periods is: $\" + str(call_prc_am))\n",
    "print(\"The price of a European call option for 200 periods is: $\" + str(call_prc_eu) + \"\\n\")\n",
    "\n",
    "# Put comparison\n",
    "put_prc_am = round(opt.american_binomial_pricer(spot, strike, expiry, rate, div, vol, nper, opt.put_payoff),2)\n",
    "print(\"The price of an American put option for 200 periods is: $\" + str(put_prc_am))\n",
    "put_prc_eu = opt.european_binomial_pricer(spot, strike, expiry, rate, div, vol, nper, opt.put_payoff)\n",
    "print(\"The price of a European put option for 200 periods is: $\" + str(put_prc_eu) + \"\\n\")\n",
    "\n",
    "pcparity = round(put_prc_eu + spot - strike*np.exp(-rate),2)\n",
    "print(\"Proof of put-call parity: The option price is \" + str(pcparity))\n",
    "print(\"Again, for the American call option without a dividend, it will never be exercised early.\")\n",
    "print(\"This can be seen by the fact that the price of both the American and European options are the same.\")"
   ]
  },
  {
   "cell_type": "code",
   "execution_count": 22,
   "metadata": {},
   "outputs": [
    {
     "name": "stdout",
     "output_type": "stream",
     "text": [
      "The price of an American call option for 3 periods is: $14.18\n",
      "The price of a European call option for 3 periods is: $13.94\n",
      "\n",
      "The price of an American put option for 3 periods is: $9.5\n",
      "The price of a European put option for 3 periods is: $9.33\n",
      "\n"
     ]
    }
   ],
   "source": [
    "# Problem 3 - 8% Dividend with n = 3\n",
    "nper = 3\n",
    "div = .08\n",
    "# Call comparison\n",
    "call_prc_am = round(opt.american_binomial_pricer(spot, strike, expiry, rate, div, vol, nper, opt.call_payoff),2)\n",
    "call_prc_eu = opt.european_binomial_pricer(spot, strike, expiry, rate, div, vol, nper, opt.call_payoff)\n",
    "print(\"The price of an American call option for 3 periods is: $\" + str(call_prc_am))\n",
    "print(\"The price of a European call option for 3 periods is: $\" + str(call_prc_eu) + \"\\n\")\n",
    "\n",
    "# Put comparison\n",
    "put_prc_am = round(opt.american_binomial_pricer(spot, strike, expiry, rate, div, vol, nper, opt.put_payoff),2)\n",
    "print(\"The price of an American put option for 3 periods is: $\" + str(put_prc_am))\n",
    "put_prc_eu = opt.european_binomial_pricer(spot, strike, expiry, rate, div, vol, nper, opt.put_payoff)\n",
    "print(\"The price of a European put option for 3 periods is: $\" + str(put_prc_eu) + \"\\n\")"
   ]
  },
  {
   "cell_type": "code",
   "execution_count": 23,
   "metadata": {},
   "outputs": [
    {
     "name": "stdout",
     "output_type": "stream",
     "text": [
      "The price of an American call option for 200 periods is: $13.5\n",
      "The price of a European call option for 200 periods is: $13.2\n",
      "\n",
      "The price of an American put option for 200 periods is: $8.74\n",
      "The price of a European put option for 200 periods is: $8.58\n",
      "\n"
     ]
    }
   ],
   "source": [
    "# Problem 3 - 8% Dividend with n = 200\n",
    "nper = 200\n",
    "# Call comparison\n",
    "call_prc_am = round(opt.american_binomial_pricer(spot, strike, expiry, rate, div, vol, nper, opt.call_payoff),2)\n",
    "call_prc_eu = opt.european_binomial_pricer(spot, strike, expiry, rate, div, vol, nper, opt.call_payoff)\n",
    "print(\"The price of an American call option for 200 periods is: $\" + str(call_prc_am))\n",
    "print(\"The price of a European call option for 200 periods is: $\" + str(call_prc_eu) + \"\\n\")\n",
    "\n",
    "# Put comparison\n",
    "put_prc_am = round(opt.american_binomial_pricer(spot, strike, expiry, rate, div, vol, nper, opt.put_payoff),2)\n",
    "print(\"The price of an American put option for 200 periods is: $\" + str(put_prc_am))\n",
    "put_prc_eu = opt.european_binomial_pricer(spot, strike, expiry, rate, div, vol, nper, opt.put_payoff)\n",
    "print(\"The price of a European put option for 200 periods is: $\" + str(put_prc_eu) + \"\\n\")"
   ]
  },
  {
   "cell_type": "code",
   "execution_count": 10,
   "metadata": {},
   "outputs": [
    {
     "name": "stdout",
     "output_type": "stream",
     "text": [
      "When a dividend is being paid on an American call option, or for an American put option, early exercise would\n",
      "happen when the early exercise value (payoff) is greater than the intrinsic value from the binomial option \n",
      "pricing model. Exercising at this time will be better than holding the option until maturity.\n",
      "\n",
      "When this happens, the American option will always be priced higher than the European option.\n"
     ]
    }
   ],
   "source": [
    "# Problem 3 - Early Exercise Explanation\n",
    "print(\"When a dividend is being paid on an American call option, or for an American put option, early exercise would\")\n",
    "print(\"happen when the early exercise value (payoff) is greater than the intrinsic value from the binomial option \")\n",
    "print(\"pricing model. Exercising at this time will be better than holding the option until maturity.\\n\")\n",
    "print(\"When this happens, the American option will always be priced higher than the European option.\")"
   ]
  }
 ],
 "metadata": {
  "kernelspec": {
   "display_name": "Python 3",
   "language": "python",
   "name": "python3"
  },
  "language_info": {
   "codemirror_mode": {
    "name": "ipython",
    "version": 3
   },
   "file_extension": ".py",
   "mimetype": "text/x-python",
   "name": "python",
   "nbconvert_exporter": "python",
   "pygments_lexer": "ipython3",
   "version": "3.7.4"
  }
 },
 "nbformat": 4,
 "nbformat_minor": 2
}
