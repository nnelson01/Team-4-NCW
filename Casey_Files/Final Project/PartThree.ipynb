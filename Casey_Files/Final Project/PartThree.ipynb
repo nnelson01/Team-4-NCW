{
 "cells": [
  {
   "cell_type": "code",
   "execution_count": 1,
   "metadata": {},
   "outputs": [],
   "source": [
    "import numpy as np\n",
    "import options as opt\n",
    "import matplotlib.pyplot as plt"
   ]
  },
  {
   "cell_type": "code",
   "execution_count": 2,
   "metadata": {},
   "outputs": [],
   "source": [
    "# Problem 2 setup\n",
    "spot = 100\n",
    "expiry = 1\n",
    "rate = .08\n",
    "div = .05\n",
    "vol = .3\n",
    "num = 252"
   ]
  },
  {
   "cell_type": "code",
   "execution_count": 5,
   "metadata": {},
   "outputs": [
    {
     "data": {
      "text/plain": [
       "Text(0.5, 0, 'Number of Days')"
      ]
     },
     "execution_count": 5,
     "metadata": {},
     "output_type": "execute_result"
    },
    {
     "data": {
      "image/png": "[encoded data removed]",
      "text/plain": [
       "<Figure size 432x288 with 1 Axes>"
      ]
     },
     "metadata": {
      "needs_background": "light"
     },
     "output_type": "display_data"
    }
   ],
   "source": [
    "# Problem 2 - Creating Path\n",
    "def binompath(spot: float, expiry: float, rate: float, div: float, vol: float, num: int):\n",
    "    bipath = opt.binomial_path(spot, expiry, rate, div, vol, num)\n",
    "    bipathprice = bipath[-1]\n",
    "    return bipath, bipathprice\n",
    "\n",
    "bipath, bipathprice = binompath(spot,expiry, rate, div, vol, num)\n",
    "plt.plot(bipath)\n",
    "plt.ylabel(\"Price\")\n",
    "plt.xlabel(\"Number of Days\")\n"
   ]
  },
  {
   "cell_type": "code",
   "execution_count": 21,
   "metadata": {},
   "outputs": [],
   "source": [
    "# Extra Credit\n",
    "# Simulation\n",
    "# I'm not sure where I am going wrong on this, but I am going to submit what I have. We have talked several times\n",
    "# about it and I am just going to turn in what I have. Thanks!\n",
    "def simulate(spot, strike, expiry, rate, div, vol, num):\n",
    "# Finding M different spot prices\n",
    "    stockprices = np.zeros(M)\n",
    "    cpo = np.zeros(M)\n",
    "    ppo = np.zeros(M)\n",
    "    for i in range(M):\n",
    "        path, stockprices[i] = binompath(spot, expiry, rate, div, vol, num)\n",
    "    callprices = opt.call_payoff(stockprices, strike)\n",
    "    putprices = opt.put_payoff(stockprices, strike)\n",
    "# Finding average payoffs\n",
    "    print\n",
    "    acp = np.median(callprices)\n",
    "    app = np.mean(putprices)\n",
    "# Finding standard error\n",
    "    cse = np.std(callprices)/np.sqrt(M)\n",
    "    pse = np.std(putprices)/np.sqrt(M)\n",
    "# Discounting\n",
    "    disc = np.exp(-rate * expiry)\n",
    "# Answer \n",
    "    finalcall = round(disc * acp, 2)\n",
    "    finalcse = round(cse, 4)\n",
    "    finalput = round(disc * app, 2)\n",
    "    finalpse = round(pse, 4)\n",
    "    return finalcall, finalcse, finalput, finalpse"
   ]
  },
  {
   "cell_type": "code",
   "execution_count": 22,
   "metadata": {},
   "outputs": [
    {
     "name": "stdout",
     "output_type": "stream",
     "text": [
      "The price of a European call option for 200 periods is: $6.97\n",
      "The price of a European put option for 200 periods is: $2.89\n"
     ]
    }
   ],
   "source": [
    "# Pricing European Call and Put\n",
    "spot = 41\n",
    "strike = 40\n",
    "expiry = 1\n",
    "vol = .3\n",
    "rate = .08\n",
    "div = 0\n",
    "num = 200\n",
    "nper = 200\n",
    "call_prc = opt.european_binomial_pricer(spot, strike, expiry, rate, div, vol, nper, opt.call_payoff)\n",
    "print(\"The price of a European call option for 200 periods is: $\" + str(call_prc))\n",
    "put_prc = opt.european_binomial_pricer(spot, strike, expiry, rate, div, vol, nper, opt.put_payoff)\n",
    "print(\"The price of a European put option for 200 periods is: $\" + str(put_prc))"
   ]
  },
  {
   "cell_type": "code",
   "execution_count": 23,
   "metadata": {},
   "outputs": [
    {
     "name": "stdout",
     "output_type": "stream",
     "text": [
      "The price of a European call option using Black-Scholes is: $6.96\n",
      "The price of a European put option using Black-Scholes is: $2.89\n",
      "\n"
     ]
    }
   ],
   "source": [
    "# Pricing Black Scholes\n",
    "bs_call_prc = round(opt.black_scholes_call(spot, strike, expiry, rate, div, vol),2)\n",
    "print(\"The price of a European call option using Black-Scholes is: $\" + str(bs_call_prc))\n",
    "bs_put_prc = round(opt.black_scholes_put(spot, strike, expiry, rate, div, vol),2)\n",
    "print(\"The price of a European put option using Black-Scholes is: $\" + str(bs_put_prc) + \"\\n\")"
   ]
  },
  {
   "cell_type": "code",
   "execution_count": 25,
   "metadata": {},
   "outputs": [
    {
     "name": "stdout",
     "output_type": "stream",
     "text": [
      "The price of a European call option using Monte Carlo with 10000 simulations is: $6.75\n",
      "The standard error is:0.1277\n",
      "The price of a European put option using Monte Carlo with 10000 simulations is: $1.88\n",
      "The standard error is:0.0403\n",
      "\n",
      "The price of a European call option using Monte Carlo with 25000 simulations is: $6.75\n",
      "The standard error is:0.0802\n",
      "The price of a European put option using Monte Carlo with 25000 simulations is: $1.9\n",
      "The standard error is:0.0258\n",
      "\n",
      "The price of a European call option using Monte Carlo with 50000 simulations is: $6.75\n",
      "The standard error is:0.0564\n",
      "The price of a European put option using Monte Carlo with 50000 simulations is: $1.89\n",
      "The standard error is:0.0182\n",
      "\n",
      "The price of a European call option using Monte Carlo with 75000 simulations is: $6.75\n",
      "The standard error is:0.0463\n",
      "The price of a European put option using Monte Carlo with 75000 simulations is: $1.89\n",
      "The standard error is:0.0148\n",
      "\n",
      "The price of a European call option using Monte Carlo with 100000 simulations is: $6.75\n",
      "The standard error is:0.0401\n",
      "The price of a European put option using Monte Carlo with 100000 simulations is: $1.87\n",
      "The standard error is:0.0128\n"
     ]
    }
   ],
   "source": [
    "# Monte Carlo with 10,000 simulations\n",
    "M = 10000\n",
    "finalcall, finalcse, finalput, finalpse = simulate(spot, strike, expiry, rate, div, vol, num)\n",
    "print(\"The price of a European call option using Monte Carlo with \" + str(M) + \" simulations is: $\" + str(finalcall))\n",
    "print(\"The standard error is:\" + str(finalcse))\n",
    "print(\"The price of a European put option using Monte Carlo with \" + str(M) + \" simulations is: $\" + str(finalput))\n",
    "print(\"The standard error is:\" + str(finalpse) + \"\\n\")\n",
    "\n",
    "# Monte Carlo with 25,000 simulations\n",
    "M = 25000\n",
    "finalcall, finalcse, finalput, finalpse = simulate(spot, strike, expiry, rate, div, vol, num)\n",
    "print(\"The price of a European call option using Monte Carlo with \" + str(M) + \" simulations is: $\" + str(finalcall))\n",
    "print(\"The standard error is:\" + str(finalcse))\n",
    "print(\"The price of a European put option using Monte Carlo with \" + str(M) + \" simulations is: $\" + str(finalput))\n",
    "print(\"The standard error is:\" + str(finalpse) + \"\\n\")\n",
    "\n",
    "# Monte Carlo with 50,000 simulations\n",
    "M = 50000\n",
    "finalcall, finalcse, finalput, finalpse = simulate(spot, strike, expiry, rate, div, vol, num)\n",
    "print(\"The price of a European call option using Monte Carlo with \" + str(M) + \" simulations is: $\" + str(finalcall))\n",
    "print(\"The standard error is:\" + str(finalcse))\n",
    "print(\"The price of a European put option using Monte Carlo with \" + str(M) + \" simulations is: $\" + str(finalput))\n",
    "print(\"The standard error is:\" + str(finalpse) + \"\\n\")\n",
    "\n",
    "# Monte Carlo with 75,000 simulations\n",
    "M = 75000\n",
    "finalcall, finalcse, finalput, finalpse = simulate(spot, strike, expiry, rate, div, vol, num)\n",
    "print(\"The price of a European call option using Monte Carlo with \" + str(M) + \" simulations is: $\" + str(finalcall))\n",
    "print(\"The standard error is:\" + str(finalcse))\n",
    "print(\"The price of a European put option using Monte Carlo with \" + str(M) + \" simulations is: $\" + str(finalput))\n",
    "print(\"The standard error is:\" + str(finalpse) + \"\\n\")\n",
    "\n",
    "# Monte Carlo with 100,000 simulations\n",
    "M = 100000\n",
    "finalcall, finalcse, finalput, finalpse = simulate(spot, strike, expiry, rate, div, vol, num)\n",
    "print(\"The price of a European call option using Monte Carlo with \" + str(M) + \" simulations is: $\" + str(finalcall))\n",
    "print(\"The standard error is:\" + str(finalcse))\n",
    "print(\"The price of a European put option using Monte Carlo with \" + str(M) + \" simulations is: $\" + str(finalput))\n",
    "print(\"The standard error is:\" + str(finalpse))"
   ]
  }
 ],
 "metadata": {
  "kernelspec": {
   "display_name": "Python 3",
   "language": "python",
   "name": "python3"
  },
  "language_info": {
   "codemirror_mode": {
    "name": "ipython",
    "version": 3
   },
   "file_extension": ".py",
   "mimetype": "text/x-python",
   "name": "python",
   "nbconvert_exporter": "python",
   "pygments_lexer": "ipython3",
   "version": "3.7.4"
  }
 },
 "nbformat": 4,
 "nbformat_minor": 2
}
