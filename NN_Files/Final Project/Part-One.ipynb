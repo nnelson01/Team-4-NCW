{
 "cells": [
  {
   "cell_type": "code",
   "execution_count": 1,
   "metadata": {},
   "outputs": [],
   "source": [
    "import numpy as np\n",
    "import options as opt"
   ]
  },
  {
   "cell_type": "markdown",
   "metadata": {},
   "source": [
    "**Problem 1**"
   ]
  },
  {
   "cell_type": "markdown",
   "metadata": {},
   "source": [
    "     1b"
   ]
  },
  {
   "cell_type": "code",
   "execution_count": 2,
   "metadata": {},
   "outputs": [],
   "source": [
    "spot = 100.0\n",
    "strike = 105.0\n",
    "rate = 0.08\n",
    "expiry = 1\n",
    "div = 0.0\n",
    "vol = 0.2\n",
    "nper = 1"
   ]
  },
  {
   "cell_type": "code",
   "execution_count": 3,
   "metadata": {},
   "outputs": [
    {
     "name": "stdout",
     "output_type": "stream",
     "text": [
      "Call Price: $11.35\n",
      "Put Price: $8.28\n"
     ]
    }
   ],
   "source": [
    "callprice = opt.european_binomial_pricer(spot, strike, expiry, rate, div, vol, nper, opt.call_payoff)\n",
    "\n",
    "print(\"Call Price: ${}\".format(callprice))\n",
    "\n",
    "putprice = opt.european_binomial_pricer(spot, strike, expiry, rate, div, vol, nper, opt.put_payoff)\n",
    "\n",
    "print(\"Put Price: ${}\".format(putprice))"
   ]
  },
  {
   "cell_type": "markdown",
   "metadata": {},
   "source": [
    "     1c"
   ]
  },
  {
   "cell_type": "code",
   "execution_count": 5,
   "metadata": {},
   "outputs": [
    {
     "name": "stdout",
     "output_type": "stream",
     "text": [
      "Call Price: $10.04\n",
      "Put Price: $6.97\n"
     ]
    }
   ],
   "source": [
    "nper = 3\n",
    "\n",
    "callprice = opt.european_binomial_pricer(spot, strike, expiry, rate, div, vol, nper, opt.call_payoff)\n",
    "\n",
    "print(\"Call Price: ${}\".format(callprice))\n",
    "\n",
    "putprice = opt.european_binomial_pricer(spot, strike, expiry, rate, div, vol, nper, opt.put_payoff)\n",
    "\n",
    "print(\"Put Price: ${}\".format(putprice))"
   ]
  },
  {
   "cell_type": "markdown",
   "metadata": {},
   "source": [
    "     1d"
   ]
  },
  {
   "cell_type": "code",
   "execution_count": 6,
   "metadata": {},
   "outputs": [
    {
     "name": "stdout",
     "output_type": "stream",
     "text": [
      "Call Price: $9.47\n",
      "Put Price: $6.4\n"
     ]
    }
   ],
   "source": [
    "nper = 200\n",
    "\n",
    "callprice = opt.european_binomial_pricer(spot, strike, expiry, rate, div, vol, nper, opt.call_payoff)\n",
    "\n",
    "print(\"Call Price: ${}\".format(callprice))\n",
    "\n",
    "putprice = opt.european_binomial_pricer(spot, strike, expiry, rate, div, vol, nper, opt.put_payoff)\n",
    "\n",
    "print(\"Put Price: ${}\".format(putprice))"
   ]
  },
  {
   "cell_type": "markdown",
   "metadata": {},
   "source": [
    "**Problem 2**"
   ]
  },
  {
   "cell_type": "markdown",
   "metadata": {},
   "source": [
    "     2a"
   ]
  },
  {
   "cell_type": "code",
   "execution_count": 8,
   "metadata": {},
   "outputs": [],
   "source": [
    "spot = 100.0\n",
    "strike = 105.0\n",
    "rate = 0.08\n",
    "expiry = 1\n",
    "div = 0.0\n",
    "vol = 0.2"
   ]
  },
  {
   "cell_type": "code",
   "execution_count": 11,
   "metadata": {},
   "outputs": [
    {
     "name": "stdout",
     "output_type": "stream",
     "text": [
      "Call under Black-Scholes model: $9.47\n",
      "Put under Black-Scholes model: $6.4\n"
     ]
    }
   ],
   "source": [
    "blackcall = opt.black_scholes_call(spot, strike, expiry, rate, div, vol)\n",
    "\n",
    "print(\"Call under Black-Scholes model: ${}\".format(round(blackcall, 2)))\n",
    "\n",
    "blackput = opt.black_scholes_put(spot, strike, expiry, rate, div, vol)\n",
    "\n",
    "print(\"Put under Black-Scholes model: ${}\".format(round(blackput, 2)))"
   ]
  },
  {
   "cell_type": "markdown",
   "metadata": {},
   "source": [
    "     2b"
   ]
  },
  {
   "cell_type": "code",
   "execution_count": 21,
   "metadata": {},
   "outputs": [
    {
     "data": {
      "text/plain": [
       "[['Binomial Call', 'Black-Sholes Call', 'Binomial Put', 'Black-Scholes Put'],\n",
       " ['$9.55', '$9.47', '$6.48', '$6.4'],\n",
       " ['$9.52', '$9.47', '$6.45', '$6.4'],\n",
       " ['$9.5', '$9.47', '$6.43', '$6.4'],\n",
       " ['$9.49', '$9.47', '$6.42', '$6.4'],\n",
       " ['$9.48', '$9.47', '$6.41', '$6.4'],\n",
       " ['$9.47', '$9.47', '$6.4', '$6.4'],\n",
       " ['$9.47', '$9.47', '$6.4', '$6.4'],\n",
       " ['$9.46', '$9.47', '$6.39', '$6.4'],\n",
       " ['$9.47', '$9.47', '$6.39', '$6.4'],\n",
       " ['$9.47', '$9.47', '$6.4', '$6.4']]"
      ]
     },
     "execution_count": 21,
     "metadata": {},
     "output_type": "execute_result"
    }
   ],
   "source": [
    "spot = 100.0\n",
    "strike = 105.0\n",
    "rate = 0.08\n",
    "expiry = 1\n",
    "div = 0.0\n",
    "vol = 0.2\n",
    "\n",
    "nper = np.arange(20, 220, 20)\n",
    "\n",
    "pricearray = []\n",
    "\n",
    "titles = [\"Binomial Call\",\"Black-Sholes Call\", \"Binomial Put\",\"Black-Scholes Put\"]\n",
    "\n",
    "pricearray.append(titles)\n",
    "\n",
    "for i in nper:\n",
    "    \n",
    "    itarray = []\n",
    "    \n",
    "    call = round(opt.european_binomial_pricer(spot, strike, expiry, rate, div, vol, i, opt.call_payoff), 2)\n",
    "    itarray.append(\"$\" + str(call))\n",
    "    \n",
    "    bcall = round(opt.black_scholes_call(spot, strike, expiry, rate, div, vol), 2)\n",
    "    itarray.append(\"$\" + str(bcall))\n",
    "    \n",
    "    put = round(opt.european_binomial_pricer(spot, strike, expiry, rate, div, vol, i, opt.put_payoff), 2)\n",
    "    itarray.append(\"$\" + str(put))\n",
    "    \n",
    "    bput = round(opt.black_scholes_put(spot, strike, expiry, rate, div, vol), 2)\n",
    "    itarray.append(\"$\" + str(bput))\n",
    "    \n",
    "    pricearray.append(itarray)\n",
    "    \n",
    "pricearray"
   ]
  },
  {
   "cell_type": "code",
   "execution_count": null,
   "metadata": {},
   "outputs": [],
   "source": []
  }
 ],
 "metadata": {
  "kernelspec": {
   "display_name": "Python 3",
   "language": "python",
   "name": "python3"
  },
  "language_info": {
   "codemirror_mode": {
    "name": "ipython",
    "version": 3
   },
   "file_extension": ".py",
   "mimetype": "text/x-python",
   "name": "python",
   "nbconvert_exporter": "python",
   "pygments_lexer": "ipython3",
   "version": "3.8.3"
  }
 },
 "nbformat": 4,
 "nbformat_minor": 4
}
