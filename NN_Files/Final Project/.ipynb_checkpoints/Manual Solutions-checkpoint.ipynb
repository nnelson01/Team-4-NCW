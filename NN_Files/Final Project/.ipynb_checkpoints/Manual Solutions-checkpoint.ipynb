{
 "cells": [
  {
   "cell_type": "code",
   "execution_count": 3,
   "metadata": {},
   "outputs": [],
   "source": [
    "import numpy as np"
   ]
  },
  {
   "cell_type": "markdown",
   "metadata": {},
   "source": [
    "**Part 1**"
   ]
  },
  {
   "cell_type": "markdown",
   "metadata": {},
   "source": [
    "1b"
   ]
  },
  {
   "cell_type": "code",
   "execution_count": 4,
   "metadata": {},
   "outputs": [],
   "source": [
    "spot = 100\n",
    "strike = 105\n",
    "rate = 0.08\n",
    "expiry = 1\n",
    "div = 0.0\n",
    "vol = 0.2\n",
    "u = 1.32313\n",
    "d = 0.88692\n",
    "h = 1\n",
    "Cu = np.maximum((u*spot)-strike, 0)\n",
    "Cd = np.maximum((d*spot)-strike, 0)\n",
    "Pu = np.maximum(strike-(spot*u), 0)\n",
    "Pd = np.maximum(strike-(spot*d), 0)"
   ]
  },
  {
   "cell_type": "code",
   "execution_count": 8,
   "metadata": {},
   "outputs": [],
   "source": [
    "deltacall = (Cu - 0) / (spot*(u-d))\n",
    "deltaput = (0 - Pd) / (spot*(u-d))\n",
    "\n",
    "betacall = np.exp(-rate) * (((u*Cd) - (d*Cu)) / (u-d))\n",
    "betaput = np.exp(-rate) * (((u*Pd) - (d*Pu)) / (u-d))"
   ]
  },
  {
   "cell_type": "code",
   "execution_count": 15,
   "metadata": {},
   "outputs": [
    {
     "name": "stdout",
     "output_type": "stream",
     "text": [
      "Call: 11.350078980684295\n",
      "Put: 8.277295351281062\n"
     ]
    }
   ],
   "source": [
    "Call = (deltacall*spot) + betacall\n",
    "Put = (deltaput*spot) + betaput\n",
    "\n",
    "print(\"Call: {}\\nPut: {}\".format(Call, Put))"
   ]
  },
  {
   "cell_type": "markdown",
   "metadata": {},
   "source": [
    "     1c"
   ]
  },
  {
   "cell_type": "code",
   "execution_count": null,
   "metadata": {},
   "outputs": [],
   "source": []
  }
 ],
 "metadata": {
  "kernelspec": {
   "display_name": "Python 3",
   "language": "python",
   "name": "python3"
  },
  "language_info": {
   "codemirror_mode": {
    "name": "ipython",
    "version": 3
   },
   "file_extension": ".py",
   "mimetype": "text/x-python",
   "name": "python",
   "nbconvert_exporter": "python",
   "pygments_lexer": "ipython3",
   "version": "3.8.3"
  }
 },
 "nbformat": 4,
 "nbformat_minor": 4
}
