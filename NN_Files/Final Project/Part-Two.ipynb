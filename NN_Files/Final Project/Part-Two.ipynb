{
 "cells": [
  {
   "cell_type": "code",
   "execution_count": 1,
   "metadata": {},
   "outputs": [],
   "source": [
    "import options as opt\n",
    "import numpy as np"
   ]
  },
  {
   "cell_type": "markdown",
   "metadata": {},
   "source": [
    "     Problem 2a"
   ]
  },
  {
   "cell_type": "code",
   "execution_count": 2,
   "metadata": {},
   "outputs": [],
   "source": [
    "spot = 100\n",
    "strike = 95\n",
    "rate = 0.08\n",
    "div = 0.0\n",
    "vol = 0.3\n",
    "expiry = 1\n",
    "nper = 3"
   ]
  },
  {
   "cell_type": "code",
   "execution_count": 4,
   "metadata": {},
   "outputs": [
    {
     "name": "stdout",
     "output_type": "stream",
     "text": [
      "A Call priced with the American Binomial model and a European Call are equivalent at $18.28 = $18.28\n"
     ]
    }
   ],
   "source": [
    "amcall = round(opt.american_binomial_pricer(spot, strike, expiry, rate, div, vol, nper, opt.call_payoff), 2)\n",
    "eurocall = opt.european_binomial_pricer(spot, strike, expiry, rate, div, vol, nper, opt.call_payoff)\n",
    "\n",
    "print(\"A Call priced with the American Binomial model and a European Call are equivalent at ${} = ${}\".format(amcall, eurocall))"
   ]
  },
  {
   "cell_type": "markdown",
   "metadata": {},
   "source": [
    "     Problem 2b"
   ]
  },
  {
   "cell_type": "code",
   "execution_count": 6,
   "metadata": {},
   "outputs": [
    {
     "name": "stdout",
     "output_type": "stream",
     "text": [
      "A European Call, at three periods, is priced at $5.98, proven by Put-Call-Parity at $18.28\n"
     ]
    }
   ],
   "source": [
    "europut = opt.european_binomial_pricer(spot, strike, expiry, rate, div, vol, nper, opt.put_payoff)\n",
    "\n",
    "putcallparity = round(europut + spot - strike*np.exp(-rate), 2)\n",
    "\n",
    "print(\"A European Call, at three periods, is priced at ${}, proven by Put-Call-Parity at ${}\".format(europut, putcallparity))"
   ]
  },
  {
   "cell_type": "markdown",
   "metadata": {},
   "source": [
    "     Problem 2c"
   ]
  },
  {
   "cell_type": "code",
   "execution_count": 7,
   "metadata": {},
   "outputs": [
    {
     "name": "stdout",
     "output_type": "stream",
     "text": [
      "An American Put at three periods is priced at: $6.68\n"
     ]
    }
   ],
   "source": [
    "amput = opt.american_binomial_pricer(spot, strike, expiry, rate, div, vol, nper, opt.put_payoff)\n",
    "\n",
    "print(\"An American Put at three periods is priced at: ${}\".format(round(amput, 2)))"
   ]
  },
  {
   "cell_type": "markdown",
   "metadata": {},
   "source": [
    "     Problem 2d"
   ]
  },
  {
   "cell_type": "code",
   "execution_count": 9,
   "metadata": {},
   "outputs": [
    {
     "name": "stdout",
     "output_type": "stream",
     "text": [
      "At 200 periods, the price of both Call Options is $18.38 and $18.38\n"
     ]
    }
   ],
   "source": [
    "nper = 200\n",
    "\n",
    "amcall = opt.american_binomial_pricer(spot, strike, expiry, rate, div, vol, nper, opt.call_payoff)\n",
    "eurocall = opt.european_binomial_pricer(spot, strike, expiry, rate, div, vol, nper, opt.call_payoff)\n",
    "\n",
    "print(\"At 200 periods, the price of both Call Options is ${} and ${}\".format(round(amcall, 2), eurocall))"
   ]
  },
  {
   "cell_type": "code",
   "execution_count": 11,
   "metadata": {},
   "outputs": [
    {
     "name": "stdout",
     "output_type": "stream",
     "text": [
      "At 200 periods, the price of both Put Options is $6.68 and $6.08\n"
     ]
    }
   ],
   "source": [
    "amput = opt.american_binomial_pricer(spot, strike, expiry, rate, div, vol, nper, opt.put_payoff)\n",
    "europut = opt.european_binomial_pricer(spot, strike, expiry, rate, div, vol, nper, opt.put_payoff)\n",
    "\n",
    "print(\"At 200 periods, the price of both Put Options is ${} and ${}\".format(round(amput, 2), europut))"
   ]
  },
  {
   "cell_type": "code",
   "execution_count": 12,
   "metadata": {},
   "outputs": [
    {
     "name": "stdout",
     "output_type": "stream",
     "text": [
      "Proof of Put-Call-Parity: $18.38\n"
     ]
    }
   ],
   "source": [
    "pcparity = europut + spot - strike * np.exp(-rate)\n",
    "\n",
    "print(\"Proof of Put-Call-Parity: ${}\".format(round(pcparity, 2)))"
   ]
  },
  {
   "cell_type": "markdown",
   "metadata": {},
   "source": [
    "**Problem 3**"
   ]
  },
  {
   "cell_type": "code",
   "execution_count": 14,
   "metadata": {},
   "outputs": [
    {
     "name": "stdout",
     "output_type": "stream",
     "text": [
      "At 3 periods, the price of each Call Option is as follows:\n",
      "American Call: $13.5\n",
      "European Call: $13.2\n"
     ]
    }
   ],
   "source": [
    "nper = 200\n",
    "div = 0.08\n",
    "\n",
    "amcall = opt.american_binomial_pricer(spot, strike, expiry, rate, div, vol, nper, opt.call_payoff)\n",
    "eurocall = opt.european_binomial_pricer(spot, strike, expiry, rate, div, vol, nper, opt.call_payoff)\n",
    "\n",
    "print(\"At 200 periods and an 8% dividend, the price of each Call Option is as follows:\\nAmerican Call: ${}\\nEuropean Call: ${}\".format(round(amcall, 2), eurocall))"
   ]
  },
  {
   "cell_type": "code",
   "execution_count": 15,
   "metadata": {},
   "outputs": [
    {
     "name": "stdout",
     "output_type": "stream",
     "text": [
      "At 200 periods and an 8% dividend, the price of each Put Option is as follows:\n",
      "American Call: $8.74\n",
      "European Call: $8.58\n"
     ]
    }
   ],
   "source": [
    "amput = opt.american_binomial_pricer(spot, strike, expiry, rate, div, vol, nper, opt.put_payoff)\n",
    "europut = opt.european_binomial_pricer(spot, strike, expiry, rate, div, vol, nper, opt.put_payoff)\n",
    "\n",
    "print(\"At 200 periods and an 8% dividend, the price of each Put Option is as follows:\\nAmerican Call: ${}\\nEuropean Call: ${}\".format(round(amput, 2), europut))"
   ]
  },
  {
   "cell_type": "markdown",
   "metadata": {},
   "source": [
    "     Explanation"
   ]
  },
  {
   "cell_type": "markdown",
   "metadata": {},
   "source": [
    "Under the American model, one should excercise early when the payoff becomes greater than the expected price under a traditional binomial pricing model"
   ]
  },
  {
   "cell_type": "code",
   "execution_count": null,
   "metadata": {},
   "outputs": [],
   "source": []
  }
 ],
 "metadata": {
  "kernelspec": {
   "display_name": "Python 3",
   "language": "python",
   "name": "python3"
  },
  "language_info": {
   "codemirror_mode": {
    "name": "ipython",
    "version": 3
   },
   "file_extension": ".py",
   "mimetype": "text/x-python",
   "name": "python",
   "nbconvert_exporter": "python",
   "pygments_lexer": "ipython3",
   "version": "3.8.3"
  }
 },
 "nbformat": 4,
 "nbformat_minor": 4
}
