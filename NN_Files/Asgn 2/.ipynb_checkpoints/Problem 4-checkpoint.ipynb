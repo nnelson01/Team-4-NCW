{
 "cells": [
  {
   "cell_type": "code",
   "execution_count": 7,
   "metadata": {},
   "outputs": [],
   "source": [
    "def bounds(pv: float, coupon: float, face: float) -> float:\n",
    "\n",
    "    lower = (pv - face) / face\n",
    "    upper = (face - pv + coupon) / face\n",
    "    \n",
    "    return lower, upper"
   ]
  },
  {
   "cell_type": "code",
   "execution_count": 8,
   "metadata": {},
   "outputs": [],
   "source": [
    "def binary_search(lower, upper, pv, cash_flows2):\n",
    "    trip = False\n",
    "    tolerance = 0.0001\n",
    "    \n",
    "    while trip == False:\n",
    "    \n",
    "        rate = (lower + upper) / 2\n",
    "        test_price = 0.0\n",
    "        t = 1\n",
    "        \n",
    "        for i in cash_flows2:\n",
    "            slice = i / ((1+rate)**t)  \n",
    "            test_price+=slice\n",
    "            t+=1\n",
    "            \n",
    "        if abs(test_price - pv) <= tolerance:\n",
    "                trip = True\n",
    "                return rate\n",
    "        elif test_price > pv:\n",
    "            lower = rate + 0.0001\n",
    "        else:\n",
    "            upper = rate - 0.0001"
   ]
  },
  {
   "cell_type": "code",
   "execution_count": 20,
   "metadata": {},
   "outputs": [],
   "source": [
    "def main():\n",
    "    \n",
    "    print(\"Welcome to the YTM Calculator\")\n",
    "    pv = float(input(\"Enter the bond's Present Value: \"))\n",
    "    nper = int(input(\"Enter the total number of coupon periods: \"))\n",
    "    coupon = float(input(\"Enter the Coupon Value: \"))\n",
    "    face = float(input(\"Enter the Face Value: \"))\n",
    "    rate_mult = int(input(\"Enter the number of coupon periods per year: \"))\n",
    "    \n",
    "    cash_flows2 = np.empty(nper)\n",
    "    cash_flows2.fill(coupon)\n",
    "    cash_flows2[-1] += face\n",
    "\n",
    "    lower, upper = bounds(pv, coupon, face)\n",
    "        \n",
    "    rate = round((binary_search(lower, upper, pv, cash_flows2) * 100 * rate_mult), 4)\n",
    "\n",
    "    print(\"The Yield to Maturity is: \" + str(rate) + \" %\")"
   ]
  },
  {
   "cell_type": "code",
   "execution_count": 23,
   "metadata": {},
   "outputs": [
    {
     "name": "stdout",
     "output_type": "stream",
     "text": [
      "Welcome to the YTM Calculator\n"
     ]
    },
    {
     "name": "stdin",
     "output_type": "stream",
     "text": [
      "Enter the bond's Present Value:  950\n",
      "Enter the total number of coupon periods:  60\n",
      "Enter the Coupon Value:  5\n",
      "Enter the Face Value:  1000\n",
      "Enter the number of coupon periods per year:  12\n"
     ]
    },
    {
     "name": "stdout",
     "output_type": "stream",
     "text": [
      "The Yield to Maturity is: 7.1936 %\n"
     ]
    }
   ],
   "source": [
    "main()"
   ]
  },
  {
   "cell_type": "code",
   "execution_count": null,
   "metadata": {},
   "outputs": [],
   "source": []
  }
 ],
 "metadata": {
  "kernelspec": {
   "display_name": "Python 3",
   "language": "python",
   "name": "python3"
  },
  "language_info": {
   "codemirror_mode": {
    "name": "ipython",
    "version": 3
   },
   "file_extension": ".py",
   "mimetype": "text/x-python",
   "name": "python",
   "nbconvert_exporter": "python",
   "pygments_lexer": "ipython3",
   "version": "3.8.3"
  }
 },
 "nbformat": 4,
 "nbformat_minor": 4
}
