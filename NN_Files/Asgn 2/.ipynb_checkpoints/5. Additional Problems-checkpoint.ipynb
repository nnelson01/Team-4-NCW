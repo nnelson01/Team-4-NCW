{
 "cells": [
  {
   "cell_type": "markdown",
   "metadata": {},
   "source": [
    "## Additional Problems\n",
    "\n",
    "1. What is the price of a 10-year, zero-coupon bond paying $\\$1,000$ at marturity if the YTM is:\n",
    "    a. 5 percent?\n",
    "    b. 10 percent?\n",
    "    c. 15 percent?\n",
    "    \n",
    "2. Microhard has issued a bond with the following characteristics:\n",
    "    - Par: $\\$1,000$\n",
    "    - Time to maturity: 25 years\n",
    "    - Coupon rate: 7 percent\n",
    "    - Semiannual payments\n",
    "    \n",
    "   Calculate the price of this bond if the YTM is:\n",
    "   a. 7 percent\n",
    "   b. 9 percent\n",
    "   c. 5 percent\n",
    "   \n",
    "3. Watters Umbrella Corp. issued 12-year bonds 2 years ago at a coupon rate of 7.8 percent. The bonds make semiannual payments. If these bonds currently sell for 105 percent of par value, what is the YTM?\n",
    "\n",
    "4. Hacker Software has 7.4 percent coupon bonds on the market with 9 years to maturity. The bonds make semiannual payments and currently sell for 96 percent of par. What is the YTM?\n",
    "\n",
    "5. Pembroke Co. wants to issue new 20-year bonds for some much needed expansion projects. The company currently has 10 percent coupon bonds on the market that sell for $\\$1,063$, make semiannual payments, and mature in 20 year. What coupon rate should the company set on its new bonds if it wants them to sell at par?\n",
    "\n",
    "6. Please write 2 additional bond pricing homework problems that are plausible and solve them them with your code. \n",
    "\n",
    "7. Please write 2 additional bond yield-to-maturity homework problems at are plausible and solve them with your code. Please compare with `numpy_financial`'s `irr` method."
   ]
  },
  {
   "cell_type": "markdown",
   "metadata": {},
   "source": [
    " "
   ]
  },
  {
   "cell_type": "markdown",
   "metadata": {},
   "source": [
    "**Problem 1**"
   ]
  },
  {
   "cell_type": "markdown",
   "metadata": {},
   "source": [
    " "
   ]
  },
  {
   "cell_type": "code",
   "execution_count": 52,
   "metadata": {},
   "outputs": [],
   "source": [
    "import numpy as np\n",
    "\n",
    "def present_value(rate: float, maturity: int, anfrequ: int, face: float, coupon: float) -> float:\n",
    "       \n",
    "    cash_flows = np.empty(maturity*anfrequ)\n",
    "    cash_flows.fill(coupon)\n",
    "    cash_flows[-1] += face\n",
    "    \n",
    "    price = 0.0\n",
    "    t = 1\n",
    "    \n",
    "    for i in cash_flows:\n",
    "        slice = i / ((1+rate)**t)\n",
    "        price+=slice\n",
    "        t+=1\n",
    "    \n",
    "    return price"
   ]
  },
  {
   "cell_type": "code",
   "execution_count": 55,
   "metadata": {},
   "outputs": [],
   "source": [
    "def problem1():\n",
    "    \n",
    "    rate = [0.05, 0.1, 0.15]\n",
    "    maturity = 10\n",
    "    anfrequ = 1\n",
    "    face = 1000.00\n",
    "    coupon = 0.0\n",
    "    \n",
    "    for x in rate:\n",
    "        price = round(present_value(x, maturity, anfrequ, face, coupon), 2)\n",
    "        print('The value of this bond at {}% is: ${}'.format(x, price))"
   ]
  },
  {
   "cell_type": "code",
   "execution_count": 56,
   "metadata": {},
   "outputs": [
    {
     "name": "stdout",
     "output_type": "stream",
     "text": [
      "The value of this bond at 0.05% is: $613.91\n",
      "The value of this bond at 0.1% is: $385.54\n",
      "The value of this bond at 0.15% is: $247.18\n"
     ]
    }
   ],
   "source": [
    "problem1()"
   ]
  },
  {
   "cell_type": "markdown",
   "metadata": {},
   "source": [
    " "
   ]
  },
  {
   "cell_type": "markdown",
   "metadata": {},
   "source": [
    "**Problem 2**"
   ]
  },
  {
   "cell_type": "markdown",
   "metadata": {},
   "source": [
    " "
   ]
  },
  {
   "cell_type": "code",
   "execution_count": 76,
   "metadata": {},
   "outputs": [],
   "source": [
    "def problem2():\n",
    "    \n",
    "    rate = [0.07, 0.09, 0.05]\n",
    "    maturity = 25\n",
    "    anfrequ = 2\n",
    "    face = 1000.00\n",
    "    coupon = face*0.07\n",
    "    \n",
    "    for x in rate:\n",
    "        price = round(present_value(x, maturity, anfrequ, face, coupon), 2)\n",
    "        print('The value of this bond at {}% is: ${}'.format(x, price))"
   ]
  },
  {
   "cell_type": "code",
   "execution_count": 77,
   "metadata": {},
   "outputs": [
    {
     "name": "stdout",
     "output_type": "stream",
     "text": [
      "The value of this bond at 0.07% is: $1000.0\n",
      "The value of this bond at 0.09% is: $780.77\n",
      "The value of this bond at 0.05% is: $1365.12\n"
     ]
    }
   ],
   "source": [
    "problem2()"
   ]
  },
  {
   "cell_type": "markdown",
   "metadata": {},
   "source": [
    "  "
   ]
  },
  {
   "cell_type": "markdown",
   "metadata": {},
   "source": [
    "**Problem 3**"
   ]
  },
  {
   "cell_type": "markdown",
   "metadata": {},
   "source": [
    "  "
   ]
  },
  {
   "cell_type": "code",
   "execution_count": 60,
   "metadata": {},
   "outputs": [],
   "source": [
    "import numpy as np\n",
    "\n",
    "def bounds(pv: float, coupon: float, face: float) -> float:\n",
    "\n",
    "    if face >= pv:\n",
    "        lower = (pv - face) / face\n",
    "        upper = (face - pv + coupon) / face\n",
    "    else:\n",
    "        lower = (face - pv) / face\n",
    "        upper = (pv - face + coupon) / face\n",
    "    \n",
    "    return lower, upper"
   ]
  },
  {
   "cell_type": "code",
   "execution_count": 61,
   "metadata": {},
   "outputs": [],
   "source": [
    "def binary_search(lower, upper, pv, cash_flows2):\n",
    "    trip = False\n",
    "    tolerance = 0.0001\n",
    "    \n",
    "    while trip == False:\n",
    "    \n",
    "        rate = (lower + upper) / 2\n",
    "        test_price = 0.0\n",
    "        t = 1\n",
    "        \n",
    "        for i in cash_flows2:\n",
    "            slice = i / ((1+rate)**t)  \n",
    "            test_price+=slice\n",
    "            t+=1\n",
    "            \n",
    "        if abs(test_price - pv) <= tolerance:\n",
    "                trip = True\n",
    "                return rate\n",
    "        elif test_price > pv:\n",
    "            lower = rate + 0.0001\n",
    "        else:\n",
    "            upper = rate - 0.0001"
   ]
  },
  {
   "cell_type": "code",
   "execution_count": 74,
   "metadata": {},
   "outputs": [],
   "source": [
    "def problem3():\n",
    "    \n",
    "    pv = 1000*1.05\n",
    "    nper = 20\n",
    "    coupon = 1000*0.078\n",
    "    face = 1000\n",
    "    \n",
    "    cash_flows2 = np.empty(nper)\n",
    "    cash_flows2.fill(coupon)\n",
    "    cash_flows2[-1] += face\n",
    "\n",
    "    lower, upper = bounds(pv, coupon, face)\n",
    "        \n",
    "    rate = round((binary_search(lower, upper, pv, cash_flows2) * 100), 4)\n",
    "\n",
    "    print(\"The Yield to Maturity is: \" + str(rate) + \" %\")"
   ]
  },
  {
   "cell_type": "code",
   "execution_count": 75,
   "metadata": {},
   "outputs": [
    {
     "name": "stdout",
     "output_type": "stream",
     "text": [
      "Welcome to the YTM Calculator\n",
      "The Yield to Maturity is: 7.3164 %\n"
     ]
    }
   ],
   "source": [
    "problem3()"
   ]
  },
  {
   "cell_type": "markdown",
   "metadata": {},
   "source": [
    " "
   ]
  },
  {
   "cell_type": "markdown",
   "metadata": {},
   "source": [
    "**Problem 4**"
   ]
  },
  {
   "cell_type": "code",
   "execution_count": 80,
   "metadata": {},
   "outputs": [],
   "source": [
    "def problem4():\n",
    "    \n",
    "    pv = 1060\n",
    "    nper = 40\n",
    "    coupon = 100\n",
    "    face = 1000\n",
    "    \n",
    "    cash_flows2 = np.empty(nper)\n",
    "    cash_flows2.fill(coupon)\n",
    "    cash_flows2[-1] += face\n",
    "\n",
    "    lower, upper = bounds(pv, coupon, face)\n",
    "        \n",
    "    rate = round((binary_search(lower, upper, pv, cash_flows2) * 100), 4)\n",
    "\n",
    "    print(\"The Yield to Maturity is: \" + str(rate) + \" %\")"
   ]
  },
  {
   "cell_type": "code",
   "execution_count": 81,
   "metadata": {},
   "outputs": [
    {
     "name": "stdout",
     "output_type": "stream",
     "text": [
      "The Yield to Maturity is: 9.419 %\n"
     ]
    }
   ],
   "source": [
    "problem4()"
   ]
  },
  {
   "cell_type": "markdown",
   "metadata": {},
   "source": [
    " "
   ]
  },
  {
   "cell_type": "markdown",
   "metadata": {},
   "source": [
    "**Problem 5**"
   ]
  },
  {
   "cell_type": "markdown",
   "metadata": {},
   "source": [
    " "
   ]
  },
  {
   "cell_type": "code",
   "execution_count": null,
   "metadata": {},
   "outputs": [],
   "source": [
    "def couponfinder():\n",
    "    "
   ]
  },
  {
   "cell_type": "code",
   "execution_count": 96,
   "metadata": {},
   "outputs": [],
   "source": [
    "def problem5():\n",
    "    \n",
    "    #develop some globally used values\n",
    "    \n",
    "    pv = 1063\n",
    "    maturity = 40\n",
    "    anfrequ = 2\n",
    "    face = 1000\n",
    "    \n",
    "    #establish an understanding of the old bonds already on-market\n",
    "    \n",
    "    currentcoupon = 100\n",
    "    currentcf = np.empty(maturity)\n",
    "    currentcf.fill(currentcoupon)\n",
    "    currentcf[-1] += face\n",
    "    currentlower, currentupper = bounds(pv, currentcoupon, face)\n",
    "    \n",
    "    #use given information to find current YTM value\n",
    "    \n",
    "    coupon = binary_search(currentlower, currentupper, pv, currentcf)\n",
    "    \n",
    "    #reset face value, produce a bond with a coupon value equal to current YTM, then prove it by printing the new PV\n",
    "    \n",
    "    face = 1000\n",
    "    \n",
    "    price = round(present_value(coupon, maturity, anfrequ, face, coupon*1000), 2)\n",
    "    \n",
    "    print(\"They should sell their bonds with the coupon value of {}%\".format(round(coupon*100, 4)))\n",
    "\n",
    "    print(\"Proof: The new bond's selling price equals face value: ${}\".format(price))\n",
    "    "
   ]
  },
  {
   "cell_type": "code",
   "execution_count": 97,
   "metadata": {},
   "outputs": [
    {
     "name": "stdout",
     "output_type": "stream",
     "text": [
      "They should sell their bonds with the coupon value of 9.3915%\n",
      "Proof: The new bond's selling price equals face value: $1000.0\n"
     ]
    }
   ],
   "source": [
    "problem5()"
   ]
  }
 ],
 "metadata": {
  "kernelspec": {
   "display_name": "Python 3",
   "language": "python",
   "name": "python3"
  },
  "language_info": {
   "codemirror_mode": {
    "name": "ipython",
    "version": 3
   },
   "file_extension": ".py",
   "mimetype": "text/x-python",
   "name": "python",
   "nbconvert_exporter": "python",
   "pygments_lexer": "ipython3",
   "version": "3.8.3"
  }
 },
 "nbformat": 4,
 "nbformat_minor": 4
}
