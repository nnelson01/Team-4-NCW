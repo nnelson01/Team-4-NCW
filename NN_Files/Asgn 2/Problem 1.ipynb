{
 "cells": [
  {
   "cell_type": "code",
   "execution_count": null,
   "metadata": {},
   "outputs": [],
   "source": []
  },
  {
   "cell_type": "code",
   "execution_count": 22,
   "metadata": {},
   "outputs": [],
   "source": [
    "def is_nugget_number(candidate, sizes) -> bool:\n",
    "    for i in range(candidate//sizes['S'] + 1):\n",
    "        for j in range(candidate // sizes['M'] +1):\n",
    "            for k in range(candidate // sizes['L'] + 1):\n",
    "                if candidate == i*sizes['S'] + j*sizes['M'] + k*sizes['L']:\n",
    "                    return True\n",
    "            k+=1\n",
    "        j+=1\n",
    "    i+=1\n",
    "                \n",
    "                \n",
    "    return False"
   ]
  },
  {
   "cell_type": "code",
   "execution_count": 11,
   "metadata": {},
   "outputs": [],
   "source": [
    "sizes = {'S' : 6, 'M' : 9, 'L' : 20}"
   ]
  },
  {
   "cell_type": "code",
   "execution_count": 23,
   "metadata": {},
   "outputs": [
    {
     "data": {
      "text/plain": [
       "False"
      ]
     },
     "execution_count": 23,
     "metadata": {},
     "output_type": "execute_result"
    }
   ],
   "source": [
    "candidate = 19\n",
    "is_nugget_number(candidate, sizes)"
   ]
  },
  {
   "cell_type": "code",
   "execution_count": 20,
   "metadata": {},
   "outputs": [],
   "source": [
    "## Main\n",
    "Largest = sizes['S'] + 1\n",
    "count = 0\n",
    "candidate = sizes['S'] + 1\n",
    "\n",
    "while count < sizes['S']:\n",
    "        if is_nugget_number(candidate, sizes):\n",
    "            count += 1\n",
    "        else:\n",
    "            count = 0\n",
    "            largest = candidate\n",
    "        candidate += 1\n",
    "            "
   ]
  },
  {
   "cell_type": "code",
   "execution_count": null,
   "metadata": {},
   "outputs": [],
   "source": []
  },
  {
   "cell_type": "code",
   "execution_count": 21,
   "metadata": {},
   "outputs": [
    {
     "data": {
      "text/plain": [
       "43"
      ]
     },
     "execution_count": 21,
     "metadata": {},
     "output_type": "execute_result"
    }
   ],
   "source": [
    "largest"
   ]
  },
  {
   "cell_type": "code",
   "execution_count": 16,
   "metadata": {},
   "outputs": [
    {
     "name": "stdout",
     "output_type": "stream",
     "text": [
      "Variable           Type        Data/Info\n",
      "----------------------------------------\n",
      "Largest            int         7\n",
      "candidate          int         50\n",
      "count              int         6\n",
      "is_nugget_number   function    <function is_nugget_number at 0x00000245EC728AF0>\n",
      "largest            int         43\n",
      "sizes              dict        n=3\n"
     ]
    }
   ],
   "source": [
    "whos\n"
   ]
  },
  {
   "cell_type": "code",
   "execution_count": null,
   "metadata": {},
   "outputs": [],
   "source": []
  }
 ],
 "metadata": {
  "kernelspec": {
   "display_name": "Python 3",
   "language": "python",
   "name": "python3"
  },
  "language_info": {
   "codemirror_mode": {
    "name": "ipython",
    "version": 3
   },
   "file_extension": ".py",
   "mimetype": "text/x-python",
   "name": "python",
   "nbconvert_exporter": "python",
   "pygments_lexer": "ipython3",
   "version": "3.8.3"
  }
 },
 "nbformat": 4,
 "nbformat_minor": 4
}
