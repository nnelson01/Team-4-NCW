{
 "cells": [
  {
   "cell_type": "markdown",
   "metadata": {},
   "source": [
    "**Assignment 3**"
   ]
  },
  {
   "cell_type": "code",
   "execution_count": 1,
   "metadata": {},
   "outputs": [],
   "source": [
    "import numpy as np"
   ]
  },
  {
   "cell_type": "code",
   "execution_count": 2,
   "metadata": {},
   "outputs": [],
   "source": [
    "##Set Global Assumptions"
   ]
  },
  {
   "cell_type": "code",
   "execution_count": 32,
   "metadata": {},
   "outputs": [],
   "source": [
    "spot = 100.0\n",
    "strike = 105.0\n",
    "r = 0.08\n",
    "T = 0.5\n",
    "undelta = 0.0\n",
    "u = 1.3\n",
    "d = 0.8\n",
    "n = 1"
   ]
  },
  {
   "cell_type": "code",
   "execution_count": 33,
   "metadata": {},
   "outputs": [],
   "source": [
    "def call_payoff(spot, strike):\n",
    "    return np.maximum(spot-strike, 0.0)"
   ]
  },
  {
   "cell_type": "code",
   "execution_count": 34,
   "metadata": {},
   "outputs": [],
   "source": [
    "def put_payoff(spot, strike):\n",
    "    return np.maximum(strike-spot, 0.0)"
   ]
  },
  {
   "cell_type": "markdown",
   "metadata": {},
   "source": [
    "     Problem 10.1"
   ]
  },
  {
   "cell_type": "code",
   "execution_count": 35,
   "metadata": {},
   "outputs": [
    {
     "name": "stdout",
     "output_type": "stream",
     "text": [
      "**Call**\n",
      "Premium: $11.57\n",
      "Delta: 0.5 \n",
      "Beta: -38.43\n"
     ]
    }
   ],
   "source": [
    "def solve_call():\n",
    "\n",
    "    Cu = call_payoff(u*spot, strike)\n",
    "    Cd = call_payoff(d*spot, strike)\n",
    "\n",
    "    Delta = (Cu-Cd) / (u*spot - d*spot)\n",
    "\n",
    "    Beta = np.exp(-r * (T/n)) * ((u*Cd - d*Cu) / (u - d))\n",
    "\n",
    "    premium = round(Delta * spot + Beta, 2)\n",
    "\n",
    "    print(\"**Call**\\nPremium: ${}\\nDelta: {} \\nBeta: {}\".format(premium, round(Delta, 2), round(Beta, 2)))\n",
    "    \n",
    "solve_call()"
   ]
  },
  {
   "cell_type": "code",
   "execution_count": 36,
   "metadata": {},
   "outputs": [
    {
     "name": "stdout",
     "output_type": "stream",
     "text": [
      "**Put**\n",
      "Premium: $12.45\n",
      "Delta: -0.5 \n",
      "Beta: 62.45\n"
     ]
    }
   ],
   "source": [
    "def solve_put():\n",
    "    \n",
    "    Pu = put_payoff(u*spot, strike)\n",
    "    Pd = put_payoff(d*spot, strike)\n",
    "\n",
    "    Delta = (Pu-Pd) / (u*spot - d*spot)\n",
    "\n",
    "    Beta = np.exp(-r * (T/n)) * ((u*Pd - d*Pu) / (u - d))\n",
    "\n",
    "    premium = round(Delta * spot + Beta, 2)\n",
    "\n",
    "    print(\"**Put**\\nPremium: ${}\\nDelta: {} \\nBeta: {}\".format(premium, round(Delta, 2), round(Beta, 2)))\n",
    "    \n",
    "solve_put()"
   ]
  },
  {
   "cell_type": "markdown",
   "metadata": {},
   "source": [
    "     Problem 10.2"
   ]
  },
  {
   "cell_type": "code",
   "execution_count": 40,
   "metadata": {},
   "outputs": [],
   "source": [
    "#Reset some variables for use\n",
    "\n",
    "spot = 100.0\n",
    "strike = 95.0\n",
    "r = 0.08\n",
    "T = 0.5\n",
    "undelta = 0.0\n",
    "u = 1.3\n",
    "d = 0.8\n",
    "n = 1"
   ]
  },
  {
   "cell_type": "code",
   "execution_count": 45,
   "metadata": {},
   "outputs": [
    {
     "name": "stdout",
     "output_type": "stream",
     "text": [
      "Call price confirmed: $16.196\n",
      "The arbitrage potential for scenario 1 and 2 are $0.8 and $0.0, respectively.\n"
     ]
    }
   ],
   "source": [
    "def test_call():\n",
    "    \n",
    "    Cu = call_payoff(u*spot, strike)\n",
    "    Cd = call_payoff(d*spot, strike)\n",
    "\n",
    "    Delta = (Cu-Cd) / (u*spot - d*spot)\n",
    "\n",
    "    Beta = np.exp(-r * (T/n)) * ((u*Cd - d*Cu) / (u - d))\n",
    "\n",
    "    premium = round(Delta * spot + Beta, 3)\n",
    "    \n",
    "    asmp1 = np.maximum(17-premium, 0.0)\n",
    "    asmp2 = np.maximum(15.5-premium, 0.0)\n",
    "    \n",
    "    print(\"Call price confirmed: ${}\\nThe arbitrage potential for scenario 1 and 2 are ${} and ${}, respectively.\".format(premium, round(asmp1, 2), round(asmp2, 2)))\n",
    "    \n",
    "test_call()"
   ]
  },
  {
   "cell_type": "markdown",
   "metadata": {},
   "source": [
    "     Problem 10.3"
   ]
  },
  {
   "cell_type": "code",
   "execution_count": 44,
   "metadata": {},
   "outputs": [],
   "source": [
    "#Reset Variables\n",
    "\n",
    "spot = 100.0\n",
    "strike = 95.0\n",
    "r = 0.08\n",
    "T = 0.5\n",
    "undelta = 0.0\n",
    "u = 1.3\n",
    "d = 0.8\n",
    "n = 1"
   ]
  },
  {
   "cell_type": "code",
   "execution_count": 47,
   "metadata": {},
   "outputs": [
    {
     "name": "stdout",
     "output_type": "stream",
     "text": [
      "Put price confirmed: $7.471\n",
      "The arbitrage potential for scenario 1 and 2 are $0.53 and $0.0, respectively.\n"
     ]
    }
   ],
   "source": [
    "def test_put():\n",
    "    Pu = put_payoff(u*spot, strike)\n",
    "    Pd = put_payoff(d*spot, strike)\n",
    "\n",
    "    Delta = (Pu-Pd) / (u*spot - d*spot)\n",
    "\n",
    "    Beta = np.exp(-r * (T/n)) * ((u*Pd - d*Pu) / (u - d))\n",
    "\n",
    "    premium = round(Delta * spot + Beta, 3)\n",
    "    \n",
    "    asmp1 = np.maximum(8.0-premium, 0.0)\n",
    "    asmp2 = np.maximum(6.0-premium, 0.0)\n",
    "    \n",
    "    print(\"Put price confirmed: ${}\\nThe arbitrage potential for scenario 1 and 2 are ${} and ${}, respectively.\".format(premium, round(asmp1, 2), round(asmp2, 2)))\n",
    "    \n",
    "test_put()"
   ]
  }
 ],
 "metadata": {
  "kernelspec": {
   "display_name": "Python 3",
   "language": "python",
   "name": "python3"
  },
  "language_info": {
   "codemirror_mode": {
    "name": "ipython",
    "version": 3
   },
   "file_extension": ".py",
   "mimetype": "text/x-python",
   "name": "python",
   "nbconvert_exporter": "python",
   "pygments_lexer": "ipython3",
   "version": "3.8.3"
  }
 },
 "nbformat": 4,
 "nbformat_minor": 4
}
