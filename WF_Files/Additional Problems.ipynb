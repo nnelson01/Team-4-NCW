{
 "cells": [
  {
   "cell_type": "code",
   "execution_count": 1,
   "metadata": {},
   "outputs": [],
   "source": [
    "#Problem 1\n",
    "import numpy as np"
   ]
  },
  {
   "cell_type": "code",
   "execution_count": 16,
   "metadata": {},
   "outputs": [],
   "source": [
    "def PrV(rate: float, cf: np.ndarray) -> float:\n",
    "    price = 0\n",
    "    count = 1\n",
    "    for i in cf:\n",
    "        temp = i/((1+ rate)**count)\n",
    "        count += 1\n",
    "        price += temp\n",
    "    return price, rate\n",
    "#price = pv(rate, cf)"
   ]
  },
  {
   "cell_type": "code",
   "execution_count": 14,
   "metadata": {},
   "outputs": [],
   "source": [
    "def ytm1(lower: float, upper: float, pv: float, cf: np.ndarray) -> float:\n",
    "    while True:\n",
    "        mid = (lower + upper)/2\n",
    "        price, rate = PrV(mid, cf)\n",
    "        if abs(price-pv) <= .01:\n",
    "            ytm = rate * 2\n",
    "            return round(ytm, 4)\n",
    "        elif price < pv:\n",
    "            upper = mid\n",
    "        else:\n",
    "            lower = mid"
   ]
  },
  {
   "cell_type": "code",
   "execution_count": 19,
   "metadata": {},
   "outputs": [
    {
     "name": "stdout",
     "output_type": "stream",
     "text": [
      "When YTM is  5.0% The PV is $376.89.\n",
      "When YTM is  10.0% The PV is $148.64.\n",
      "When YTM is  15.0% The PV is $61.1.\n"
     ]
    }
   ],
   "source": [
    "def bondprice(coup: float, face: float, mat: int, freq: int) -> np.ndarray:\n",
    "    pmt = (coup  * face) / freq\n",
    "    bond = np.full(mat * freq, pmt)\n",
    "    bond[-1] += face\n",
    "    return bond\n",
    "bond = bondprice(0,1000,10,2)\n",
    "rate = [.05,.1,.15]\n",
    "for i in rate:\n",
    "    PV, rate = PrV(i, bond)\n",
    "    print(\"When YTM is  \" + str(i*100) + \"% The PV is $\" + str(round(PV,2)) + \".\")"
   ]
  },
  {
   "cell_type": "code",
   "execution_count": 18,
   "metadata": {},
   "outputs": [
    {
     "name": "stdout",
     "output_type": "stream",
     "text": [
      " When YTM is 7.0% The PV is $516.97.\n",
      " When YTM is 9.0% The PV is $397.11.\n",
      " When YTM is 5.0% The PV is $726.16.\n"
     ]
    }
   ],
   "source": [
    "#Problem 2\n",
    "bond = bondprice(.07,1000,25,2)\n",
    "rate = [.07,.09,.05]\n",
    "for i in rate:\n",
    "    PV, rate = PrV(i, bond)\n",
    "    print(\" When YTM is \" + str(round(i*100, 2)) + \"% The PV is $\" + str(round(PV,2)) + \".\")"
   ]
  },
  {
   "cell_type": "code",
   "execution_count": 17,
   "metadata": {},
   "outputs": [
    {
     "name": "stdout",
     "output_type": "stream",
     "text": [
      "The YTM is 7.09%.\n"
     ]
    }
   ],
   "source": [
    "# Problem 3\n",
    "bond = bondprice(.078,1000,10,2)\n",
    "ytm = ytm1(.01,.2,1050, bond)\n",
    "print(\"The YTM is \" + str(round(ytm*100, 2)) + \"%.\")"
   ]
  },
  {
   "cell_type": "code",
   "execution_count": 21,
   "metadata": {},
   "outputs": [
    {
     "name": "stdout",
     "output_type": "stream",
     "text": [
      "The YTM is 8.03%.\n"
     ]
    }
   ],
   "source": [
    "# Problem 4\n",
    "bond = bondprice(.074,1000,9,2)\n",
    "ytm = ytm1(.01,.2,960, bond)\n",
    "print(\"The YTM is \" + str(round(ytm*100, 2)) + \"%.\")"
   ]
  },
  {
   "cell_type": "code",
   "execution_count": 10,
   "metadata": {},
   "outputs": [],
   "source": [
    "# Problem 5\n",
    "bond = bondprice(.1,1000,2,20)\n",
    "ytm = ytm1(.01,.2,1063, bond)\n",
    "print(\"The rate is: \" + str(round(ytm*100, 2)) + \"%.\")"
   ]
  },
  {
   "cell_type": "code",
   "execution_count": 24,
   "metadata": {},
   "outputs": [
    {
     "name": "stdout",
     "output_type": "stream",
     "text": [
      " The price of the bond is $333.95.\n"
     ]
    }
   ],
   "source": [
    "#Problem 6\n",
    "'''\n",
    "Wyatt Corporation has the following information, what is the bond price?\n",
    "\n",
    "Coupon Rate: 8 Percent\n",
    "Years: 30\n",
    "Yearly\n",
    "YTM: 6 Percent\n",
    "'''\n",
    "bond = bondprice(.08,1000,30,4)\n",
    "PV, rate = pv(.06, bond)\n",
    "print(\" The price of the bond is $\" + str(round(PV,2)) + \".\")"
   ]
  },
  {
   "cell_type": "code",
   "execution_count": 12,
   "metadata": {},
   "outputs": [
    {
     "name": "stdout",
     "output_type": "stream",
     "text": [
      " The price of the bond is $664.5.\n"
     ]
    }
   ],
   "source": [
    "'''\n",
    "Fitz Corporation has the following information, what is the bond price?\n",
    "\n",
    "Coupon Rate: 6 Percent\n",
    "Years: 5\n",
    "Semiannual\n",
    "YTM: 8 Percent\n",
    "'''\n",
    "bond = bondprice(.06,1000,5,2)\n",
    "PV, rate = pv(.08, bond)\n",
    "print(\" The price of the bond is $\" + str(round(PV,2)) + \".\")"
   ]
  },
  {
   "cell_type": "code",
   "execution_count": 22,
   "metadata": {},
   "outputs": [
    {
     "name": "stdout",
     "output_type": "stream",
     "text": [
      "The Yield to Maturity is: 16.0%.\n"
     ]
    }
   ],
   "source": [
    "#Problem 7\n",
    "'''\n",
    "Wyatt Corporation bonds have the following information, find the YTM\n",
    "\n",
    "Coupon Rate: 6 Percent\n",
    "Years: 5\n",
    "Semiannual\n",
    "Price: $664.5\n",
    "'''\n",
    "bond = bondprice(.06,1000,5,2)\n",
    "ytm = ytm1(.01, 1, 664.5, bond)\n",
    "print(\"The Yield to Maturity is: \" + str(round(ytm*100, 2)) + \"%.\")"
   ]
  },
  {
   "cell_type": "code",
   "execution_count": 23,
   "metadata": {},
   "outputs": [
    {
     "name": "stdout",
     "output_type": "stream",
     "text": [
      "The Yield to Maturity is: 21.48%.\n"
     ]
    }
   ],
   "source": [
    "'''\n",
    "Fitz Corporation Bonds have the following information, find the YTM\n",
    "\n",
    "Coupon Rate: 4 Percent\n",
    "Years: 20\n",
    "Semiannual\n",
    "Price: 200\n",
    "'''\n",
    "bond = bondprice(.04,1000,20,2)\n",
    "ytm = ytm1(.01,1,200, bond)\n",
    "print(\"The Yield to Maturity is: \" + str(round(ytm*100, 2)) + \"%.\")"
   ]
  },
  {
   "cell_type": "code",
   "execution_count": null,
   "metadata": {},
   "outputs": [],
   "source": []
  }
 ],
 "metadata": {
  "kernelspec": {
   "display_name": "Python 3",
   "language": "python",
   "name": "python3"
  },
  "language_info": {
   "codemirror_mode": {
    "name": "ipython",
    "version": 3
   },
   "file_extension": ".py",
   "mimetype": "text/x-python",
   "name": "python",
   "nbconvert_exporter": "python",
   "pygments_lexer": "ipython3",
   "version": "3.7.4"
  }
 },
 "nbformat": 4,
 "nbformat_minor": 4
}
