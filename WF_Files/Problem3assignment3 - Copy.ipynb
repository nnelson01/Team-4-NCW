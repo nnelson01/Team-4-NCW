{
 "cells": [
  {
   "cell_type": "code",
   "execution_count": 1,
   "metadata": {},
   "outputs": [],
   "source": [
    "import numpy as np\n",
    "S = 100\n",
    "K = 95\n",
    "r= .08\n",
    "T = .5\n",
    "u = 1.3\n",
    "d = .8\n",
    "n = 1\n",
    "h = T/n"
   ]
  },
  {
   "cell_type": "code",
   "execution_count": 2,
   "metadata": {},
   "outputs": [
    {
     "name": "stdout",
     "output_type": "stream",
     "text": [
      "premium is 7.471,  Δ is -0.3, B is 37.471\n"
     ]
    }
   ],
   "source": [
    "def put(spot,strike, option = 'put'):\n",
    "    return np.maximum(strike-spot, 0)\n",
    "d3 = put(u*S,K)\n",
    "d4 = put(d*S,K)\n",
    "D = (d3-d4)/ (u*S - d*S)\n",
    "B = np.exp(-r * h) * ((u*d4 - d*d3)/(u-d))\n",
    "P = round(D * S + B, 3)\n",
    "print(\"premium is \" + str(round(P,3)) + \",  Δ is \" + str(round(D,3)) + \", B is \" + str(round(B,3)))"
   ]
  },
  {
   "cell_type": "code",
   "execution_count": 5,
   "metadata": {},
   "outputs": [
    {
     "name": "stdout",
     "output_type": "stream",
     "text": [
      "Call price is too high relative to actual, so we sell .3 shares and lend 37.471 for riskless investment this\n",
      "gives us riskless investment with $.529 (8-7.471) of profit\n"
     ]
    }
   ],
   "source": [
    "print(\"Put price is too high relative to actual, so we sell .3 shares and lend 37.471 for riskless investment this\")\n",
    "print(\"gives us riskless investment with $.529 (8-7.471) of profit\")"
   ]
  },
  {
   "cell_type": "code",
   "execution_count": 6,
   "metadata": {},
   "outputs": [
    {
     "name": "stdout",
     "output_type": "stream",
     "text": [
      "Put price is too high relative to actual, so we buy .3 shares and borrow 37.471 for riskless investment this\n",
      "gives us riskless investment with $1.471 (7.471-6) of profit\n"
     ]
    }
   ],
   "source": [
    "print(\"Put price is too high relative to actual, so we buy .3 shares and borrow 37.471 for riskless investment this\")\n",
    "print(\"gives us riskless investment with $1.471 (7.471-6) of profit\")"
   ]
  },
  {
   "cell_type": "code",
   "execution_count": null,
   "metadata": {},
   "outputs": [],
   "source": []
  }
 ],
 "metadata": {
  "kernelspec": {
   "display_name": "Python 3",
   "language": "python",
   "name": "python3"
  },
  "language_info": {
   "codemirror_mode": {
    "name": "ipython",
    "version": 3
   },
   "file_extension": ".py",
   "mimetype": "text/x-python",
   "name": "python",
   "nbconvert_exporter": "python",
   "pygments_lexer": "ipython3",
   "version": "3.8.3"
  }
 },
 "nbformat": 4,
 "nbformat_minor": 4
}
