{
 "cells": [
  {
   "cell_type": "code",
   "execution_count": 1,
   "metadata": {},
   "outputs": [],
   "source": [
    "import options as opt\n",
    "import numpy as np"
   ]
  },
  {
   "cell_type": "code",
   "execution_count": 26,
   "metadata": {},
   "outputs": [],
   "source": [
    "#Question 1\n",
    "spot = 100\n",
    "strike = 105\n",
    "rate = .08\n",
    "expiry = 1\n",
    "div = 0\n",
    "vol = .2\n",
    "nper = 1"
   ]
  },
  {
   "cell_type": "code",
   "execution_count": 27,
   "metadata": {},
   "outputs": [
    {
     "name": "stdout",
     "output_type": "stream",
     "text": [
      "European call option price for 1 period is: $11.35\n",
      "European put option price for 1 period is: $8.277\n",
      "\n"
     ]
    }
   ],
   "source": [
    "#1b\n",
    "callprice = round(opt.european_binomial_pricer(spot, strike, expiry, rate, div, vol, nper, opt.call_payoff),3)\n",
    "putprice = round(opt.european_binomial_pricer(spot, strike, expiry, rate, div, vol, nper, opt.put_payoff),3)\n",
    "print(\"European call option price for 1 period is: $\" + str(callprice))\n",
    "print(\"European put option price for 1 period is: $\" + str(putprice) + \"\\n\")"
   ]
  },
  {
   "cell_type": "code",
   "execution_count": 28,
   "metadata": {},
   "outputs": [
    {
     "name": "stdout",
     "output_type": "stream",
     "text": [
      "European call option price for 3 periods is: $10.045\n",
      "European put option price for 3 periods is: $6.972\n"
     ]
    }
   ],
   "source": [
    "#1c\n",
    "nper = 3\n",
    "callprice = round(opt.european_binomial_pricer(spot, strike, expiry, rate, div, vol, nper, opt.call_payoff),3)\n",
    "putprice = round(opt.european_binomial_pricer(spot, strike, expiry, rate, div, vol, nper, opt.put_payoff),3)\n",
    "print(\"European call option price for 3 periods is: $\" + str(callprice))\n",
    "print(\"European put option price for 3 periods is: $\" + str(putprice))"
   ]
  },
  {
   "cell_type": "code",
   "execution_count": 29,
   "metadata": {},
   "outputs": [
    {
     "name": "stdout",
     "output_type": "stream",
     "text": [
      "European call option price for 200 periods is: $9.472\n",
      "European put option price for 200 periods is: $6.399\n"
     ]
    }
   ],
   "source": [
    "#1d\n",
    "nper = 200\n",
    "callprice = round(opt.european_binomial_pricer(spot, strike, expiry, rate, div, vol, nper, opt.call_payoff),3)\n",
    "putprice = round(opt.european_binomial_pricer(spot, strike, expiry, rate, div, vol, nper, opt.put_payoff),3)\n",
    "print(\"European call option price for 200 periods is: $\" + str(callprice))\n",
    "print(\"European put option price for 200 periods is: $\" + str(putprice))"
   ]
  },
  {
   "cell_type": "code",
   "execution_count": 6,
   "metadata": {},
   "outputs": [],
   "source": [
    "# Question 2\n",
    "spot = 100\n",
    "strike = 105\n",
    "rate = .08\n",
    "expiry = 1\n",
    "div = 0\n",
    "vol = .2"
   ]
  },
  {
   "cell_type": "code",
   "execution_count": 7,
   "metadata": {},
   "outputs": [
    {
     "name": "stdout",
     "output_type": "stream",
     "text": [
      "European call option price using Black-Scholes is: $9.47\n",
      "European put option price using Black-Scholes is: $6.4\n",
      "\n"
     ]
    }
   ],
   "source": [
    "#2a\n",
    "bscallprice = round(opt.black_scholes_call(spot, strike, expiry, rate, div, vol),2)\n",
    "bsputprice= round(opt.black_scholes_put(spot, strike, expiry, rate, div, vol),2)\n",
    "print(\"European call option price using Black-Scholes is: $\" + str(bscallprice))\n",
    "print(\"European put option price using Black-Scholes is: $\" + str(bsputprice) + \"\\n\")"
   ]
  },
  {
   "cell_type": "code",
   "execution_count": 21,
   "metadata": {},
   "outputs": [
    {
     "name": "stdout",
     "output_type": "stream",
     "text": [
      "Solutions in Excel, as well as handwritten solutions to match everything.\n"
     ]
    }
   ],
   "source": [
    "#2b\n",
    "nper = np.arange(20,220,20)\n",
    "price_array_call = []\n",
    "price_array_put = []\n",
    "for i in nper:\n",
    "    nper = i\n",
    "    callprice = opt.european_binomial_pricer(spot, strike, expiry, rate, div, vol, nper, opt.call_payoff)\n",
    "    putprice = opt.european_binomial_pricer(spot, strike, expiry, rate, div, vol, nper, opt.put_payoff)\n",
    "    price_array_call.append(callprice)\n",
    "    price_array_put.append(putprice)\n",
    "print(\"Solutions in Excel, as well as handwritten solutions to match everything.\")"
   ]
  },
  {
   "cell_type": "code",
   "execution_count": null,
   "metadata": {},
   "outputs": [],
   "source": []
  }
 ],
 "metadata": {
  "kernelspec": {
   "display_name": "Python 3",
   "language": "python",
   "name": "python3"
  },
  "language_info": {
   "codemirror_mode": {
    "name": "ipython",
    "version": 3
   },
   "file_extension": ".py",
   "mimetype": "text/x-python",
   "name": "python",
   "nbconvert_exporter": "python",
   "pygments_lexer": "ipython3",
   "version": "3.8.3"
  }
 },
 "nbformat": 4,
 "nbformat_minor": 4
}
