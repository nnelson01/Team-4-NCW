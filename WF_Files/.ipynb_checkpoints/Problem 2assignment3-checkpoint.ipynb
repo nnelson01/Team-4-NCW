{
 "cells": [
  {
   "cell_type": "code",
   "execution_count": 4,
   "metadata": {},
   "outputs": [],
   "source": [
    "import numpy as np\n",
    "S = 100\n",
    "K = 95\n",
    "r= .08\n",
    "T = .5\n",
    "u = 1.3\n",
    "d = .8\n",
    "n = 1\n",
    "h = T/n"
   ]
  },
  {
   "cell_type": "code",
   "execution_count": 5,
   "metadata": {},
   "outputs": [
    {
     "name": "stdout",
     "output_type": "stream",
     "text": [
      "premium is 16.196,  Δ is 0.7, B is -53.804\n"
     ]
    }
   ],
   "source": [
    "def call(spot,strike, option = 'call'):\n",
    "    return np.maximum(spot-strike, 0)\n",
    "d1 = call(u*S,K)\n",
    "d2 = call(d*S,K)\n",
    "D = (d1-d2)/ (u*S - d*S)\n",
    "B = np.exp(-r * h) * ((u*d2 - d*d1)/(u-d))\n",
    "P = round(D * S + B, 3)\n",
    "print(\"premium is \" + str(round(P,3)) + \",  Δ is \" + str(round(D,3)) + \", B is \" + str(round(B,3)))"
   ]
  },
  {
   "cell_type": "code",
   "execution_count": 6,
   "metadata": {},
   "outputs": [
    {
     "name": "stdout",
     "output_type": "stream",
     "text": [
      "Call price is too high relative to actual, so we buy .7 shares and borrow 53.804 for riskless investment\n",
      "this will give us riskless investment with $.804 (17-16.196) profit\n"
     ]
    }
   ],
   "source": [
    "print(\"Call price is too high relative to actual, so we buy .7 shares and borrow 53.804 for riskless investment\")\n",
    "print(\"this will give us riskless investment with $.804 (17-16.196) profit\")"
   ]
  },
  {
   "cell_type": "code",
   "execution_count": 7,
   "metadata": {},
   "outputs": [
    {
     "name": "stdout",
     "output_type": "stream",
     "text": [
      "Call price is too low relative to actual, so we sell .7 shares and lend 53.804 for riskless investment\n",
      "this will  give us riskless investment with $.696 (16.196-15.5) profit\n"
     ]
    }
   ],
   "source": [
    "print(\"Call price is too low relative to actual, so we sell .7 shares and lend 53.804 for riskless investment\")\n",
    "print(\"this will  give us riskless investment with $.696 (16.196-15.5) profit\")"
   ]
  },
  {
   "cell_type": "code",
   "execution_count": 8,
   "metadata": {},
   "outputs": [
    {
     "ename": "NameError",
     "evalue": "name 'pr' is not defined",
     "output_type": "error",
     "traceback": [
      "\u001b[1;31m---------------------------------------------------------------------------\u001b[0m",
      "\u001b[1;31mNameError\u001b[0m                                 Traceback (most recent call last)",
      "\u001b[1;32m<ipython-input-8-07c73c38aafa>\u001b[0m in \u001b[0;36m<module>\u001b[1;34m\u001b[0m\n\u001b[1;32m----> 1\u001b[1;33m \u001b[0mpr\u001b[0m\u001b[1;33m\u001b[0m\u001b[1;33m\u001b[0m\u001b[0m\n\u001b[0m",
      "\u001b[1;31mNameError\u001b[0m: name 'pr' is not defined"
     ]
    }
   ],
   "source": [
    "pr"
   ]
  },
  {
   "cell_type": "code",
   "execution_count": null,
   "metadata": {},
   "outputs": [],
   "source": []
  }
 ],
 "metadata": {
  "kernelspec": {
   "display_name": "Python 3",
   "language": "python",
   "name": "python3"
  },
  "language_info": {
   "codemirror_mode": {
    "name": "ipython",
    "version": 3
   },
   "file_extension": ".py",
   "mimetype": "text/x-python",
   "name": "python",
   "nbconvert_exporter": "python",
   "pygments_lexer": "ipython3",
   "version": "3.8.3"
  }
 },
 "nbformat": 4,
 "nbformat_minor": 4
}
