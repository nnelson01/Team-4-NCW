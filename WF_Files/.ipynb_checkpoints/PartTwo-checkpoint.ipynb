{
 "cells": [
  {
   "cell_type": "code",
   "execution_count": 5,
   "metadata": {},
   "outputs": [],
   "source": [
    "import options as opt\n",
    "import numpy as np"
   ]
  },
  {
   "cell_type": "code",
   "execution_count": 6,
   "metadata": {},
   "outputs": [],
   "source": [
    "# Problem 2\n",
    "spot = 100\n",
    "strike = 95\n",
    "rate = .08\n",
    "div = 0\n",
    "vol = .3\n",
    "expiry = 1\n",
    "nper = 3"
   ]
  },
  {
   "cell_type": "code",
   "execution_count": 15,
   "metadata": {},
   "outputs": [
    {
     "name": "stdout",
     "output_type": "stream",
     "text": [
      "American call option price for 3 periods is: $18.283\n",
      "European call option price for 3 periods is: $18.283\n",
      "No dividend, so no early exercise on an American call option.\n",
      "It is the same as the European model.\n"
     ]
    }
   ],
   "source": [
    "#2a \n",
    "callamer= round(opt.american_binomial_pricer(spot, strike, expiry, rate, div, vol, nper, opt.call_payoff),3)\n",
    "calleuro = round(opt.european_binomial_pricer(spot, strike, expiry, rate, div, vol, nper, opt.call_payoff),3)\n",
    "print(\"American call option price for 3 periods is: $\" + str(callamer))\n",
    "print(\"European call option price for 3 periods is: $\" + str(calleuro))\n",
    "print(\"No dividend, so no early exercise on an American call option.\")\n",
    "print(\"It is the same as the European model.\")"
   ]
  },
  {
   "cell_type": "code",
   "execution_count": 14,
   "metadata": {},
   "outputs": [
    {
     "name": "stdout",
     "output_type": "stream",
     "text": [
      "European put option price for 3 periods is: $5.979\n",
      "Proof of put-call parity: The option price is $18.283\n"
     ]
    }
   ],
   "source": [
    "#2b\n",
    "puteuro = round(opt.european_binomial_pricer(spot, strike, expiry, rate, div, vol, nper, opt.put_payoff),3)\n",
    "pcparity = round(puteuro + spot - strike*np.exp(-rate),3)\n",
    "print(\"European put option price for 3 periods is: $\" + str(puteuro))\n",
    "print(\"Proof of put-call parity: The option price is $\" + str(pcparity))"
   ]
  },
  {
   "cell_type": "code",
   "execution_count": 13,
   "metadata": {},
   "outputs": [
    {
     "name": "stdout",
     "output_type": "stream",
     "text": [
      "American put option price for 3 periods is: $6.678\n",
      "\n"
     ]
    }
   ],
   "source": [
    "#2c\n",
    "putamer = round(opt.american_binomial_pricer(spot, strike, expiry, rate, div, vol, nper, opt.put_payoff),3)\n",
    "print(\"American put option price for 3 periods is: $\" + str(putamer) + \"\\n\")"
   ]
  },
  {
   "cell_type": "code",
   "execution_count": 19,
   "metadata": {},
   "outputs": [
    {
     "name": "stdout",
     "output_type": "stream",
     "text": [
      "American call option price for 200 periods is: $18.382\n",
      "European call option price for 200 periods is: $18.382\n",
      "\n",
      "American put option price for 200 periods is: $6.685\n",
      "European put option price for 200 periods is: $6.078\n",
      "\n",
      "Proof of put-call parity: The option price is 18.382\n",
      "No dividend, not exercised early.\n",
      "American and European options are the same which shows this.\n"
     ]
    }
   ],
   "source": [
    "#2d\n",
    "nper = 200\n",
    "\n",
    "callamer = round(opt.american_binomial_pricer(spot, strike, expiry, rate, div, vol, nper, opt.call_payoff),3)\n",
    "calleuro = round(opt.european_binomial_pricer(spot, strike, expiry, rate, div, vol, nper, opt.call_payoff),3)\n",
    "print(\"American call option price for 200 periods is: $\" + str(callamer))\n",
    "print(\"European call option price for 200 periods is: $\" + str(calleuro) + \"\\n\")\n",
    "\n",
    "putamer = round(opt.american_binomial_pricer(spot, strike, expiry, rate, div, vol, nper, opt.put_payoff),3)\n",
    "puteuro = round(opt.european_binomial_pricer(spot, strike, expiry, rate, div, vol, nper, opt.put_payoff),3)\n",
    "print(\"American put option price for 200 periods is: $\" + str(putamer))\n",
    "print(\"European put option price for 200 periods is: $\" + str(puteuro) + \"\\n\")\n",
    "\n",
    "pcparity = round(puteuro + spot - strike*np.exp(-rate),3)\n",
    "print(\"Proof of put-call parity: The option price is \" + str(pcparity))\n",
    "print(\"No dividend, not exercised early.\")\n",
    "print(\"American and European options are the same which shows this.\")"
   ]
  },
  {
   "cell_type": "code",
   "execution_count": 20,
   "metadata": {},
   "outputs": [
    {
     "name": "stdout",
     "output_type": "stream",
     "text": [
      "American call option price for 200 periods is: $14.183\n",
      "European call option price for 200 periods is: $13.941\n",
      "\n",
      "American put option price for 200 periods is: $9.505\n",
      "European put option price for 200 periods is: $9.326\n",
      "\n"
     ]
    }
   ],
   "source": [
    "#Problem 3\n",
    "nper = 3\n",
    "div = .08\n",
    "\n",
    "callamer = round(opt.american_binomial_pricer(spot, strike, expiry, rate, div, vol, nper, opt.call_payoff),3)\n",
    "calleuro = round(opt.european_binomial_pricer(spot, strike, expiry, rate, div, vol, nper, opt.call_payoff),3)\n",
    "print(\"American call option price for 200 periods is: $\" + str(callamer))\n",
    "print(\"European call option price for 200 periods is: $\" + str(calleuro) + \"\\n\")\n",
    "\n",
    "putamer = round(opt.american_binomial_pricer(spot, strike, expiry, rate, div, vol, nper, opt.put_payoff),3)\n",
    "puteuro = round(opt.european_binomial_pricer(spot, strike, expiry, rate, div, vol, nper, opt.put_payoff),3)\n",
    "print(\"American put option price for 200 periods is: $\" + str(putamer))\n",
    "print(\"European put option price for 200 periods is: $\" + str(puteuro) + \"\\n\")"
   ]
  },
  {
   "cell_type": "code",
   "execution_count": 21,
   "metadata": {},
   "outputs": [
    {
     "name": "stdout",
     "output_type": "stream",
     "text": [
      "American call option price for 200 periods is: $13.502\n",
      "European call option price for 200 periods is: $13.199\n",
      "\n",
      "American put option price for 200 periods is: $8.736\n",
      "European put option price for 200 periods is: $8.583\n",
      "\n"
     ]
    }
   ],
   "source": [
    "nper = 200\n",
    "\n",
    "callamer = round(opt.american_binomial_pricer(spot, strike, expiry, rate, div, vol, nper, opt.call_payoff),3)\n",
    "calleuro = round(opt.european_binomial_pricer(spot, strike, expiry, rate, div, vol, nper, opt.call_payoff),3)\n",
    "print(\"American call option price for 200 periods is: $\" + str(callamer))\n",
    "print(\"European call option price for 200 periods is: $\" + str(calleuro) + \"\\n\")\n",
    "\n",
    "putamer = round(opt.american_binomial_pricer(spot, strike, expiry, rate, div, vol, nper, opt.put_payoff),3)\n",
    "puteuro = round(opt.european_binomial_pricer(spot, strike, expiry, rate, div, vol, nper, opt.put_payoff),3)\n",
    "print(\"American put option price for 200 periods is: $\" + str(putamer))\n",
    "print(\"European put option price for 200 periods is: $\" + str(puteuro) + \"\\n\")"
   ]
  },
  {
   "cell_type": "code",
   "execution_count": 22,
   "metadata": {},
   "outputs": [
    {
     "name": "stdout",
     "output_type": "stream",
     "text": [
      "When there is a divdidend on an American option, early exercise occurs if the early exercise value is larger\n",
      "than the intrinsic value from the binomial option. If you exercise at this time it is better than holding \n",
      "until maturity. With this, the American option is priced higher than the European\n"
     ]
    }
   ],
   "source": [
    "print(\"When there is a divdidend on an American option, early exercise occurs if the early exercise value is larger\")\n",
    "print(\"than the intrinsic value from the binomial option. If you exercise at this time it is better than holding \")\n",
    "print(\"until maturity. With this, the American option is priced higher than the European\")"
   ]
  },
  {
   "cell_type": "code",
   "execution_count": null,
   "metadata": {},
   "outputs": [],
   "source": []
  }
 ],
 "metadata": {
  "kernelspec": {
   "display_name": "Python 3",
   "language": "python",
   "name": "python3"
  },
  "language_info": {
   "codemirror_mode": {
    "name": "ipython",
    "version": 3
   },
   "file_extension": ".py",
   "mimetype": "text/x-python",
   "name": "python",
   "nbconvert_exporter": "python",
   "pygments_lexer": "ipython3",
   "version": "3.8.3"
  }
 },
 "nbformat": 4,
 "nbformat_minor": 4
}
